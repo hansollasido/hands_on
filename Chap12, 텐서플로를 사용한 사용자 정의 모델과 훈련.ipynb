{
 "cells": [
  {
   "cell_type": "markdown",
   "id": "d22b40d9",
   "metadata": {},
   "source": [
    "# 텐서플로 훑어보기"
   ]
  },
  {
   "cell_type": "markdown",
   "id": "c6ea8056",
   "metadata": {},
   "source": [
    "텐서플로는 강력한 수치 계산용 라이브러리임\n",
    "- 구글 브레인 팀에서 개발했고 구글 클라우드 스피치, 구글 포토, 구글 검색과 같은 대규모 서비스에 사용됨\n"
   ]
  },
  {
   "cell_type": "markdown",
   "id": "1e537311",
   "metadata": {},
   "source": [
    "**텐서플로**가 제공하는 것들 요약\n",
    "1. 핵심 구조는 넘파이와 매우 비슷하지만 GPU를 지원함\n",
    "2. (여러 장치와 서버에 대해서) 분산 컴퓨팅을 지원함\n",
    "3. 일종의 JIT(just-in-time) 컴파일러를 포함함. 속도를 높이고 메모리 사용량을 줄이기 위해 계산을 최적화함. 파이썬 함수에서 **계산 그래프**를 추출한 다음 최적화하고 효율적으로 실행함\n",
    "4. 계산 그래프는 플랫폼에 중립적인 포맷으로 내보낼 수 있으므로 한 환경에서 텐서플로 모델을 훈련하고 다른 환경에서 실행할 수 있음\n",
    "5. 텐서플로는 자동 미분 기능과 RMSProp, Nadam 같은 고성능 옵티마이저를 제공하므로 모든 종류의 손실 함수를 쉽게 최소화할 수 있음"
   ]
  },
  {
   "cell_type": "markdown",
   "id": "73853d70",
   "metadata": {},
   "source": [
    "- 데이터 적재와 전처리 연산(tf.data, tf.io)\n",
    "- 이미지 처리 연산(tf.image)\n",
    "- 신호 처리 연산(tf.signal) 등이 있음\n",
    "\n"
   ]
  },
  {
   "cell_type": "markdown",
   "id": "3a748b14",
   "metadata": {},
   "source": [
    "가장 저수준의 텐서플로 연산은 매우 효율적인 C++ 코드로 구현되어 있음\n",
    "- 많은 연산은 **커널**이라 부르는 여러 구현을 가짐\n",
    "- 각 커널은 CPU, GPU, TPU(텐서 처리 장치)와 같은 특정 장치에 맞추어 만들어졌음\n",
    "- TPU은 딥러닝 연산을 위해 특별하게 설계된 ASIC 칩임\n"
   ]
  },
  {
   "cell_type": "markdown",
   "id": "06c06add",
   "metadata": {},
   "source": [
    "# 넘파이처럼 텐서플로 사용하기"
   ]
  },
  {
   "cell_type": "markdown",
   "id": "3eb5494c",
   "metadata": {},
   "source": [
    "텐서는 넘파이 ndarray와 매우 비슷함\n",
    "- 텐서는 일반적으로 다차원 배열이나 스칼라 값도 가질 수 있음"
   ]
  },
  {
   "cell_type": "markdown",
   "id": "2e6beb5d",
   "metadata": {},
   "source": [
    "## 텐서와 연산"
   ]
  },
  {
   "cell_type": "markdown",
   "id": "84c753e7",
   "metadata": {},
   "source": [
    "`tf.constant()` 함수로 텐서를 만들 수 있음"
   ]
  },
  {
   "cell_type": "code",
   "execution_count": 22,
   "id": "2ad946e0",
   "metadata": {
    "ExecuteTime": {
     "end_time": "2023-03-14T08:25:09.069557Z",
     "start_time": "2023-03-14T08:25:08.306246Z"
    }
   },
   "outputs": [],
   "source": [
    "# Python ≥3.5 is required\n",
    "import sys\n",
    "assert sys.version_info >= (3, 5)\n",
    "\n",
    "# Scikit-Learn ≥0.20 is required\n",
    "import sklearn\n",
    "assert sklearn.__version__ >= \"0.20\"\n",
    "\n",
    "try:\n",
    "    # %tensorflow_version only exists in Colab.\n",
    "    %tensorflow_version 2.x\n",
    "except Exception:\n",
    "    pass\n",
    "\n",
    "# TensorFlow ≥2.4 is required in this notebook\n",
    "# Earlier 2.x versions will mostly work the same, but with a few bugs\n",
    "import tensorflow as tf\n",
    "from tensorflow import keras\n",
    "\n",
    "# Common imports\n",
    "import numpy as np\n",
    "import os\n",
    "\n",
    "# to make this notebook's output stable across runs\n",
    "np.random.seed(42)\n",
    "tf.random.set_seed(42)\n",
    "\n",
    "# To plot pretty figures\n",
    "%matplotlib inline\n",
    "import matplotlib as mpl\n",
    "import matplotlib.pyplot as plt\n",
    "mpl.rc('axes', labelsize=14)\n",
    "mpl.rc('xtick', labelsize=12)\n",
    "mpl.rc('ytick', labelsize=12)\n",
    "\n",
    "# Where to save the figures\n",
    "PROJECT_ROOT_DIR = \".\"\n",
    "CHAPTER_ID = \"deep\"\n",
    "IMAGES_PATH = os.path.join(PROJECT_ROOT_DIR, \"images\", CHAPTER_ID)\n",
    "os.makedirs(IMAGES_PATH, exist_ok=True)\n",
    "\n",
    "# def save_fig(fig_id, tight_layout=True, fig_extension=\"png\", resolution=300):\n",
    "#     path = os.path.join(IMAGES_PATH, fig_id + \".\" + fig_extension)\n",
    "#     print(\"Saving figure\", fig_id)\n",
    "#     if tight_layout:\n",
    "#         plt.tight_layout()\n",
    "#     plt.savefig(path, format=fig_extension, dpi=resolution)"
   ]
  },
  {
   "cell_type": "code",
   "execution_count": 1,
   "id": "54c65ea3",
   "metadata": {
    "ExecuteTime": {
     "end_time": "2023-03-14T08:19:49.800791Z",
     "start_time": "2023-03-14T08:19:47.034161Z"
    }
   },
   "outputs": [
    {
     "data": {
      "text/plain": [
       "<tf.Tensor: shape=(2, 3), dtype=float32, numpy=\n",
       "array([[1., 2., 3.],\n",
       "       [4., 5., 6.]], dtype=float32)>"
      ]
     },
     "execution_count": 1,
     "metadata": {},
     "output_type": "execute_result"
    }
   ],
   "source": [
    "import tensorflow as tf\n",
    "\n",
    "tf.constant([[1., 2., 3.], [4., 5., 6.]]) # 행렬"
   ]
  },
  {
   "cell_type": "code",
   "execution_count": 2,
   "id": "d1251327",
   "metadata": {
    "ExecuteTime": {
     "end_time": "2023-03-14T08:19:49.815797Z",
     "start_time": "2023-03-14T08:19:49.801791Z"
    }
   },
   "outputs": [
    {
     "data": {
      "text/plain": [
       "<tf.Tensor: shape=(), dtype=int32, numpy=42>"
      ]
     },
     "execution_count": 2,
     "metadata": {},
     "output_type": "execute_result"
    }
   ],
   "source": [
    "tf.constant(42) # 스칼라"
   ]
  },
  {
   "cell_type": "code",
   "execution_count": 3,
   "id": "6d261370",
   "metadata": {
    "ExecuteTime": {
     "end_time": "2023-03-14T08:19:49.830800Z",
     "start_time": "2023-03-14T08:19:49.816797Z"
    }
   },
   "outputs": [
    {
     "data": {
      "text/plain": [
       "TensorShape([2, 3])"
      ]
     },
     "execution_count": 3,
     "metadata": {},
     "output_type": "execute_result"
    }
   ],
   "source": [
    "t = tf.constant([[1., 2., 3.], [4., 5., 6.]])\n",
    "t.shape"
   ]
  },
  {
   "cell_type": "code",
   "execution_count": 4,
   "id": "d2e12c71",
   "metadata": {
    "ExecuteTime": {
     "end_time": "2023-03-14T08:19:49.845804Z",
     "start_time": "2023-03-14T08:19:49.832801Z"
    }
   },
   "outputs": [
    {
     "data": {
      "text/plain": [
       "tf.float32"
      ]
     },
     "execution_count": 4,
     "metadata": {},
     "output_type": "execute_result"
    }
   ],
   "source": [
    "t.dtype"
   ]
  },
  {
   "cell_type": "markdown",
   "id": "8844da64",
   "metadata": {},
   "source": [
    "인덱스 참조도 매우 비슷하게 작동됨"
   ]
  },
  {
   "cell_type": "code",
   "execution_count": 5,
   "id": "fe5c4098",
   "metadata": {
    "ExecuteTime": {
     "end_time": "2023-03-14T08:19:49.860806Z",
     "start_time": "2023-03-14T08:19:49.846804Z"
    }
   },
   "outputs": [
    {
     "data": {
      "text/plain": [
       "<tf.Tensor: shape=(2, 2), dtype=float32, numpy=\n",
       "array([[2., 3.],\n",
       "       [5., 6.]], dtype=float32)>"
      ]
     },
     "execution_count": 5,
     "metadata": {},
     "output_type": "execute_result"
    }
   ],
   "source": [
    "t[:, 1:]"
   ]
  },
  {
   "cell_type": "code",
   "execution_count": 6,
   "id": "720d3a7b",
   "metadata": {
    "ExecuteTime": {
     "end_time": "2023-03-14T08:19:49.875809Z",
     "start_time": "2023-03-14T08:19:49.862808Z"
    }
   },
   "outputs": [
    {
     "data": {
      "text/plain": [
       "<tf.Tensor: shape=(2, 1), dtype=float32, numpy=\n",
       "array([[2.],\n",
       "       [5.]], dtype=float32)>"
      ]
     },
     "execution_count": 6,
     "metadata": {},
     "output_type": "execute_result"
    }
   ],
   "source": [
    "t[..., 1, tf.newaxis]"
   ]
  },
  {
   "cell_type": "markdown",
   "id": "83670db0",
   "metadata": {},
   "source": [
    "텐서 연산이 가능함"
   ]
  },
  {
   "cell_type": "code",
   "execution_count": 7,
   "id": "b3baa7a5",
   "metadata": {
    "ExecuteTime": {
     "end_time": "2023-03-14T08:19:49.890813Z",
     "start_time": "2023-03-14T08:19:49.876811Z"
    }
   },
   "outputs": [
    {
     "data": {
      "text/plain": [
       "<tf.Tensor: shape=(2, 3), dtype=float32, numpy=\n",
       "array([[11., 12., 13.],\n",
       "       [14., 15., 16.]], dtype=float32)>"
      ]
     },
     "execution_count": 7,
     "metadata": {},
     "output_type": "execute_result"
    }
   ],
   "source": [
    "t + 10"
   ]
  },
  {
   "cell_type": "code",
   "execution_count": 8,
   "id": "d74c62da",
   "metadata": {
    "ExecuteTime": {
     "end_time": "2023-03-14T08:19:49.905816Z",
     "start_time": "2023-03-14T08:19:49.891813Z"
    }
   },
   "outputs": [
    {
     "data": {
      "text/plain": [
       "<tf.Tensor: shape=(2, 3), dtype=float32, numpy=\n",
       "array([[ 1.,  4.,  9.],\n",
       "       [16., 25., 36.]], dtype=float32)>"
      ]
     },
     "execution_count": 8,
     "metadata": {},
     "output_type": "execute_result"
    }
   ],
   "source": [
    "tf.square(t)"
   ]
  },
  {
   "cell_type": "code",
   "execution_count": 9,
   "id": "55fb24f6",
   "metadata": {
    "ExecuteTime": {
     "end_time": "2023-03-14T08:19:49.935824Z",
     "start_time": "2023-03-14T08:19:49.906818Z"
    }
   },
   "outputs": [
    {
     "data": {
      "text/plain": [
       "<tf.Tensor: shape=(2, 2), dtype=float32, numpy=\n",
       "array([[14., 32.],\n",
       "       [32., 77.]], dtype=float32)>"
      ]
     },
     "execution_count": 9,
     "metadata": {},
     "output_type": "execute_result"
    }
   ],
   "source": [
    "# 행렬 곱셈\n",
    "t @ tf.transpose(t)"
   ]
  },
  {
   "cell_type": "markdown",
   "id": "b04d83e4",
   "metadata": {},
   "source": [
    "`tf.add(t, 10)` : 더하기, `tf.matmul()` : 행렬 곱셈"
   ]
  },
  {
   "cell_type": "markdown",
   "id": "3cb55cf5",
   "metadata": {},
   "source": [
    "## 텐서와 넘파이"
   ]
  },
  {
   "cell_type": "markdown",
   "id": "f15e8b15",
   "metadata": {},
   "source": [
    "텐서는 넘파이와 함께 사용하기 편리함\n",
    "- 넘파이 배열로 텐서를 만들 수 있고 그 반대도 가능함"
   ]
  },
  {
   "cell_type": "code",
   "execution_count": 10,
   "id": "da87415e",
   "metadata": {
    "ExecuteTime": {
     "end_time": "2023-03-14T08:19:49.950827Z",
     "start_time": "2023-03-14T08:19:49.938825Z"
    }
   },
   "outputs": [
    {
     "data": {
      "text/plain": [
       "<tf.Tensor: shape=(3,), dtype=float64, numpy=array([2., 4., 5.])>"
      ]
     },
     "execution_count": 10,
     "metadata": {},
     "output_type": "execute_result"
    }
   ],
   "source": [
    "a = np.array([2., 4., 5.])\n",
    "tf.constant(a)"
   ]
  },
  {
   "cell_type": "code",
   "execution_count": 11,
   "id": "03d4cae5",
   "metadata": {
    "ExecuteTime": {
     "end_time": "2023-03-14T08:19:49.965831Z",
     "start_time": "2023-03-14T08:19:49.951827Z"
    }
   },
   "outputs": [
    {
     "data": {
      "text/plain": [
       "array([[1., 2., 3.],\n",
       "       [4., 5., 6.]], dtype=float32)"
      ]
     },
     "execution_count": 11,
     "metadata": {},
     "output_type": "execute_result"
    }
   ],
   "source": [
    "t.numpy() # 또는 np.array(t)"
   ]
  },
  {
   "cell_type": "code",
   "execution_count": 12,
   "id": "0d5e8214",
   "metadata": {
    "ExecuteTime": {
     "end_time": "2023-03-14T08:19:49.980834Z",
     "start_time": "2023-03-14T08:19:49.966831Z"
    }
   },
   "outputs": [
    {
     "data": {
      "text/plain": [
       "<tf.Tensor: shape=(3,), dtype=float64, numpy=array([ 4., 16., 25.])>"
      ]
     },
     "execution_count": 12,
     "metadata": {},
     "output_type": "execute_result"
    }
   ],
   "source": [
    "tf.square(a)"
   ]
  },
  {
   "cell_type": "markdown",
   "id": "130869d7",
   "metadata": {},
   "source": [
    "## 타입 변환"
   ]
  },
  {
   "cell_type": "markdown",
   "id": "035d9fe3",
   "metadata": {},
   "source": [
    "타입 변환은 성능을 크게 감소시킬 수 있음\n",
    "- 타입이 자동으로 변환되면 사용자가 눈치채지 못할 수 있음\n",
    "- 호환되지 않은 타입의 텐서로 연산을 실행하면 예외가 발생함"
   ]
  },
  {
   "cell_type": "code",
   "execution_count": 13,
   "id": "e9cfdaf9",
   "metadata": {
    "ExecuteTime": {
     "end_time": "2023-03-14T08:19:50.732195Z",
     "start_time": "2023-03-14T08:19:49.981834Z"
    }
   },
   "outputs": [
    {
     "ename": "InvalidArgumentError",
     "evalue": "cannot compute AddV2 as input #1(zero-based) was expected to be a float tensor but is a int32 tensor [Op:AddV2]",
     "output_type": "error",
     "traceback": [
      "\u001b[1;31m---------------------------------------------------------------------------\u001b[0m",
      "\u001b[1;31mInvalidArgumentError\u001b[0m                      Traceback (most recent call last)",
      "\u001b[1;32m~\\AppData\\Local\\Temp\\ipykernel_13472\\308422390.py\u001b[0m in \u001b[0;36m<module>\u001b[1;34m\u001b[0m\n\u001b[1;32m----> 1\u001b[1;33m \u001b[0mtf\u001b[0m\u001b[1;33m.\u001b[0m\u001b[0mconstant\u001b[0m\u001b[1;33m(\u001b[0m\u001b[1;36m2.\u001b[0m\u001b[1;33m)\u001b[0m \u001b[1;33m+\u001b[0m \u001b[0mtf\u001b[0m\u001b[1;33m.\u001b[0m\u001b[0mconstant\u001b[0m\u001b[1;33m(\u001b[0m\u001b[1;36m40\u001b[0m\u001b[1;33m)\u001b[0m\u001b[1;33m\u001b[0m\u001b[1;33m\u001b[0m\u001b[0m\n\u001b[0m",
      "\u001b[1;32m~\\Anaconda3\\lib\\site-packages\\tensorflow\\python\\util\\traceback_utils.py\u001b[0m in \u001b[0;36merror_handler\u001b[1;34m(*args, **kwargs)\u001b[0m\n\u001b[0;32m    151\u001b[0m     \u001b[1;32mexcept\u001b[0m \u001b[0mException\u001b[0m \u001b[1;32mas\u001b[0m \u001b[0me\u001b[0m\u001b[1;33m:\u001b[0m\u001b[1;33m\u001b[0m\u001b[1;33m\u001b[0m\u001b[0m\n\u001b[0;32m    152\u001b[0m       \u001b[0mfiltered_tb\u001b[0m \u001b[1;33m=\u001b[0m \u001b[0m_process_traceback_frames\u001b[0m\u001b[1;33m(\u001b[0m\u001b[0me\u001b[0m\u001b[1;33m.\u001b[0m\u001b[0m__traceback__\u001b[0m\u001b[1;33m)\u001b[0m\u001b[1;33m\u001b[0m\u001b[1;33m\u001b[0m\u001b[0m\n\u001b[1;32m--> 153\u001b[1;33m       \u001b[1;32mraise\u001b[0m \u001b[0me\u001b[0m\u001b[1;33m.\u001b[0m\u001b[0mwith_traceback\u001b[0m\u001b[1;33m(\u001b[0m\u001b[0mfiltered_tb\u001b[0m\u001b[1;33m)\u001b[0m \u001b[1;32mfrom\u001b[0m \u001b[1;32mNone\u001b[0m\u001b[1;33m\u001b[0m\u001b[1;33m\u001b[0m\u001b[0m\n\u001b[0m\u001b[0;32m    154\u001b[0m     \u001b[1;32mfinally\u001b[0m\u001b[1;33m:\u001b[0m\u001b[1;33m\u001b[0m\u001b[1;33m\u001b[0m\u001b[0m\n\u001b[0;32m    155\u001b[0m       \u001b[1;32mdel\u001b[0m \u001b[0mfiltered_tb\u001b[0m\u001b[1;33m\u001b[0m\u001b[1;33m\u001b[0m\u001b[0m\n",
      "\u001b[1;32m~\\Anaconda3\\lib\\site-packages\\tensorflow\\python\\framework\\ops.py\u001b[0m in \u001b[0;36mraise_from_not_ok_status\u001b[1;34m(e, name)\u001b[0m\n\u001b[0;32m   7213\u001b[0m \u001b[1;32mdef\u001b[0m \u001b[0mraise_from_not_ok_status\u001b[0m\u001b[1;33m(\u001b[0m\u001b[0me\u001b[0m\u001b[1;33m,\u001b[0m \u001b[0mname\u001b[0m\u001b[1;33m)\u001b[0m\u001b[1;33m:\u001b[0m\u001b[1;33m\u001b[0m\u001b[1;33m\u001b[0m\u001b[0m\n\u001b[0;32m   7214\u001b[0m   \u001b[0me\u001b[0m\u001b[1;33m.\u001b[0m\u001b[0mmessage\u001b[0m \u001b[1;33m+=\u001b[0m \u001b[1;33m(\u001b[0m\u001b[1;34m\" name: \"\u001b[0m \u001b[1;33m+\u001b[0m \u001b[0mname\u001b[0m \u001b[1;32mif\u001b[0m \u001b[0mname\u001b[0m \u001b[1;32mis\u001b[0m \u001b[1;32mnot\u001b[0m \u001b[1;32mNone\u001b[0m \u001b[1;32melse\u001b[0m \u001b[1;34m\"\"\u001b[0m\u001b[1;33m)\u001b[0m\u001b[1;33m\u001b[0m\u001b[1;33m\u001b[0m\u001b[0m\n\u001b[1;32m-> 7215\u001b[1;33m   \u001b[1;32mraise\u001b[0m \u001b[0mcore\u001b[0m\u001b[1;33m.\u001b[0m\u001b[0m_status_to_exception\u001b[0m\u001b[1;33m(\u001b[0m\u001b[0me\u001b[0m\u001b[1;33m)\u001b[0m \u001b[1;32mfrom\u001b[0m \u001b[1;32mNone\u001b[0m  \u001b[1;31m# pylint: disable=protected-access\u001b[0m\u001b[1;33m\u001b[0m\u001b[1;33m\u001b[0m\u001b[0m\n\u001b[0m\u001b[0;32m   7216\u001b[0m \u001b[1;33m\u001b[0m\u001b[0m\n\u001b[0;32m   7217\u001b[0m \u001b[1;33m\u001b[0m\u001b[0m\n",
      "\u001b[1;31mInvalidArgumentError\u001b[0m: cannot compute AddV2 as input #1(zero-based) was expected to be a float tensor but is a int32 tensor [Op:AddV2]"
     ]
    }
   ],
   "source": [
    "tf.constant(2.) + tf.constant(40)"
   ]
  },
  {
   "cell_type": "code",
   "execution_count": 14,
   "id": "779d1559",
   "metadata": {
    "ExecuteTime": {
     "end_time": "2023-03-14T08:19:54.656110Z",
     "start_time": "2023-03-14T08:19:54.639101Z"
    }
   },
   "outputs": [
    {
     "ename": "InvalidArgumentError",
     "evalue": "cannot compute AddV2 as input #1(zero-based) was expected to be a float tensor but is a double tensor [Op:AddV2]",
     "output_type": "error",
     "traceback": [
      "\u001b[1;31m---------------------------------------------------------------------------\u001b[0m",
      "\u001b[1;31mInvalidArgumentError\u001b[0m                      Traceback (most recent call last)",
      "\u001b[1;32m~\\AppData\\Local\\Temp\\ipykernel_13472\\3392836167.py\u001b[0m in \u001b[0;36m<module>\u001b[1;34m\u001b[0m\n\u001b[1;32m----> 1\u001b[1;33m \u001b[0mtf\u001b[0m\u001b[1;33m.\u001b[0m\u001b[0mconstant\u001b[0m\u001b[1;33m(\u001b[0m\u001b[1;36m2.\u001b[0m\u001b[1;33m)\u001b[0m \u001b[1;33m+\u001b[0m \u001b[0mtf\u001b[0m\u001b[1;33m.\u001b[0m\u001b[0mconstant\u001b[0m\u001b[1;33m(\u001b[0m\u001b[1;36m40.\u001b[0m\u001b[1;33m,\u001b[0m \u001b[0mdtype\u001b[0m\u001b[1;33m=\u001b[0m\u001b[0mtf\u001b[0m\u001b[1;33m.\u001b[0m\u001b[0mfloat64\u001b[0m\u001b[1;33m)\u001b[0m\u001b[1;33m\u001b[0m\u001b[1;33m\u001b[0m\u001b[0m\n\u001b[0m",
      "\u001b[1;32m~\\Anaconda3\\lib\\site-packages\\tensorflow\\python\\util\\traceback_utils.py\u001b[0m in \u001b[0;36merror_handler\u001b[1;34m(*args, **kwargs)\u001b[0m\n\u001b[0;32m    151\u001b[0m     \u001b[1;32mexcept\u001b[0m \u001b[0mException\u001b[0m \u001b[1;32mas\u001b[0m \u001b[0me\u001b[0m\u001b[1;33m:\u001b[0m\u001b[1;33m\u001b[0m\u001b[1;33m\u001b[0m\u001b[0m\n\u001b[0;32m    152\u001b[0m       \u001b[0mfiltered_tb\u001b[0m \u001b[1;33m=\u001b[0m \u001b[0m_process_traceback_frames\u001b[0m\u001b[1;33m(\u001b[0m\u001b[0me\u001b[0m\u001b[1;33m.\u001b[0m\u001b[0m__traceback__\u001b[0m\u001b[1;33m)\u001b[0m\u001b[1;33m\u001b[0m\u001b[1;33m\u001b[0m\u001b[0m\n\u001b[1;32m--> 153\u001b[1;33m       \u001b[1;32mraise\u001b[0m \u001b[0me\u001b[0m\u001b[1;33m.\u001b[0m\u001b[0mwith_traceback\u001b[0m\u001b[1;33m(\u001b[0m\u001b[0mfiltered_tb\u001b[0m\u001b[1;33m)\u001b[0m \u001b[1;32mfrom\u001b[0m \u001b[1;32mNone\u001b[0m\u001b[1;33m\u001b[0m\u001b[1;33m\u001b[0m\u001b[0m\n\u001b[0m\u001b[0;32m    154\u001b[0m     \u001b[1;32mfinally\u001b[0m\u001b[1;33m:\u001b[0m\u001b[1;33m\u001b[0m\u001b[1;33m\u001b[0m\u001b[0m\n\u001b[0;32m    155\u001b[0m       \u001b[1;32mdel\u001b[0m \u001b[0mfiltered_tb\u001b[0m\u001b[1;33m\u001b[0m\u001b[1;33m\u001b[0m\u001b[0m\n",
      "\u001b[1;32m~\\Anaconda3\\lib\\site-packages\\tensorflow\\python\\framework\\ops.py\u001b[0m in \u001b[0;36mraise_from_not_ok_status\u001b[1;34m(e, name)\u001b[0m\n\u001b[0;32m   7213\u001b[0m \u001b[1;32mdef\u001b[0m \u001b[0mraise_from_not_ok_status\u001b[0m\u001b[1;33m(\u001b[0m\u001b[0me\u001b[0m\u001b[1;33m,\u001b[0m \u001b[0mname\u001b[0m\u001b[1;33m)\u001b[0m\u001b[1;33m:\u001b[0m\u001b[1;33m\u001b[0m\u001b[1;33m\u001b[0m\u001b[0m\n\u001b[0;32m   7214\u001b[0m   \u001b[0me\u001b[0m\u001b[1;33m.\u001b[0m\u001b[0mmessage\u001b[0m \u001b[1;33m+=\u001b[0m \u001b[1;33m(\u001b[0m\u001b[1;34m\" name: \"\u001b[0m \u001b[1;33m+\u001b[0m \u001b[0mname\u001b[0m \u001b[1;32mif\u001b[0m \u001b[0mname\u001b[0m \u001b[1;32mis\u001b[0m \u001b[1;32mnot\u001b[0m \u001b[1;32mNone\u001b[0m \u001b[1;32melse\u001b[0m \u001b[1;34m\"\"\u001b[0m\u001b[1;33m)\u001b[0m\u001b[1;33m\u001b[0m\u001b[1;33m\u001b[0m\u001b[0m\n\u001b[1;32m-> 7215\u001b[1;33m   \u001b[1;32mraise\u001b[0m \u001b[0mcore\u001b[0m\u001b[1;33m.\u001b[0m\u001b[0m_status_to_exception\u001b[0m\u001b[1;33m(\u001b[0m\u001b[0me\u001b[0m\u001b[1;33m)\u001b[0m \u001b[1;32mfrom\u001b[0m \u001b[1;32mNone\u001b[0m  \u001b[1;31m# pylint: disable=protected-access\u001b[0m\u001b[1;33m\u001b[0m\u001b[1;33m\u001b[0m\u001b[0m\n\u001b[0m\u001b[0;32m   7216\u001b[0m \u001b[1;33m\u001b[0m\u001b[0m\n\u001b[0;32m   7217\u001b[0m \u001b[1;33m\u001b[0m\u001b[0m\n",
      "\u001b[1;31mInvalidArgumentError\u001b[0m: cannot compute AddV2 as input #1(zero-based) was expected to be a float tensor but is a double tensor [Op:AddV2]"
     ]
    }
   ],
   "source": [
    "tf.constant(2.) + tf.constant(40., dtype=tf.float64)"
   ]
  },
  {
   "cell_type": "markdown",
   "id": "d5b4a6a5",
   "metadata": {},
   "source": [
    "`tf.cast()` 함수를 사용하여 타입을 변환함"
   ]
  },
  {
   "cell_type": "code",
   "execution_count": 15,
   "id": "1b8aba88",
   "metadata": {
    "ExecuteTime": {
     "end_time": "2023-03-14T08:19:55.034193Z",
     "start_time": "2023-03-14T08:19:55.015191Z"
    }
   },
   "outputs": [
    {
     "data": {
      "text/plain": [
       "<tf.Tensor: shape=(), dtype=float32, numpy=42.0>"
      ]
     },
     "execution_count": 15,
     "metadata": {},
     "output_type": "execute_result"
    }
   ],
   "source": [
    "t2 = tf.constant(40., dtype=tf.float64)\n",
    "tf.constant(2.0) + tf.cast(t2, tf.float32)"
   ]
  },
  {
   "cell_type": "markdown",
   "id": "56b5ffd5",
   "metadata": {},
   "source": [
    "## 변수"
   ]
  },
  {
   "cell_type": "markdown",
   "id": "dfa9f727",
   "metadata": {},
   "source": [
    "`tf.Tensor`는 변경이 불가능한 객체이기 때문에 역전파로 변경되어야 하는 신경망의 가중치를 구현할 수 없음\n",
    "- 따라서 `tf.Variable`로 변수를 선언해야함"
   ]
  },
  {
   "cell_type": "markdown",
   "id": "cbc293a3",
   "metadata": {},
   "source": [
    "`tf.Variable`은 `tf.Tensor`와 비슷하게 동작함"
   ]
  },
  {
   "cell_type": "code",
   "execution_count": 16,
   "id": "d35be48e",
   "metadata": {
    "ExecuteTime": {
     "end_time": "2023-03-14T08:19:55.697342Z",
     "start_time": "2023-03-14T08:19:55.686341Z"
    }
   },
   "outputs": [
    {
     "data": {
      "text/plain": [
       "<tf.Variable 'Variable:0' shape=(2, 3) dtype=float32, numpy=\n",
       "array([[1., 2., 3.],\n",
       "       [4., 5., 6.]], dtype=float32)>"
      ]
     },
     "execution_count": 16,
     "metadata": {},
     "output_type": "execute_result"
    }
   ],
   "source": [
    "v = tf.Variable([[1., 2., 3.],[4., 5., 6.]])\n",
    "v"
   ]
  },
  {
   "cell_type": "code",
   "execution_count": 17,
   "id": "9367bd77",
   "metadata": {
    "ExecuteTime": {
     "end_time": "2023-03-14T08:19:55.847375Z",
     "start_time": "2023-03-14T08:19:55.830372Z"
    }
   },
   "outputs": [
    {
     "data": {
      "text/plain": [
       "<tf.Variable 'UnreadVariable' shape=(2, 3) dtype=float32, numpy=\n",
       "array([[100.,  42.,   0.],\n",
       "       [  8.,  10., 200.]], dtype=float32)>"
      ]
     },
     "execution_count": 17,
     "metadata": {},
     "output_type": "execute_result"
    }
   ],
   "source": [
    "v.assign(2 * v) # => [[2., 4., 6.], [8., 10., 12.]]\n",
    "v[0, 1].assign(42) # => [[2., 42., 6.], [8., 10., 12.]]\n",
    "v[:, 2].assign([0., 1.]) # => [[2., 42., 0.], [8., 10., 1.]]\n",
    "v.scatter_nd_update(indices = [[0, 0], [1, 2]], updates=[100., 200.])\n",
    "            # => [[100., 42., 0.], [8., 10., 200.]]"
   ]
  },
  {
   "cell_type": "markdown",
   "id": "24efbd4e",
   "metadata": {},
   "source": [
    "## 다른 데이터 구조"
   ]
  },
  {
   "cell_type": "markdown",
   "id": "801e773c",
   "metadata": {},
   "source": [
    "희소 텐서 (`tf.SparseTensor`)\n",
    "- 대부분 0으로 채워진 텐서\n",
    "\n",
    "텐서 배열 (`tf.TensorArray`)\n",
    "- 텐서의 리스트\n",
    "- 기본적으로 고정된 길이를 가지지만 동적으로 바꿀 수 있음\n",
    "- 리스트에 포함된 모든 텐서는 크기와 데이터 타입이 동일해야 함\n",
    "\n",
    "래그드 텐서 (`tf.RaggedTensor`)\n",
    "- 리스트의 리스트를 나타냄\n",
    "\n",
    "문자열 텐서\n",
    "- tf.string 타입의 텐서임\n",
    "- 바이트 문자열을 나타내고 UTF-8로 인코딩됨\n",
    "\n",
    "집합\n",
    "- 일반적인 텐서로 나타냄\n",
    "- `tf.sets` 패키지의 연산을 사용해 집합을 다룰 수 있음\n",
    "\n",
    "큐\n",
    "- 단계별로 텐서를 저장함\n",
    "- FIFO 큐, 어떤 원소에 우선권을 주는 큐, 원소를 섞는 큐, 패딩을 추가하여 크기가 다른 원소의 배치를 만드는 큐"
   ]
  },
  {
   "cell_type": "markdown",
   "id": "e71bb42d",
   "metadata": {},
   "source": [
    "# 사용자 정의 모델과 훈련 알고리즘"
   ]
  },
  {
   "cell_type": "markdown",
   "id": "fbf17bed",
   "metadata": {},
   "source": [
    "회귀 모델을 훈련하는 데 훈련 세트에 잡음 데이터가 조금 있다고 가정하자. 비효율적이고 잡음 데이터가 남아 있을 때 어떻게 할까?\n",
    "- 평균 제곱 오차는 큰 오차에 너무 과한 벌칙을 가하므로 정확하지 않은 모델이 만들어짐\n",
    "- 평균 절댓값 오차는 이상치에 관대해서 훈련이 수렴되기까지 시간이 걸림\n",
    "    - 모델이 정확하게 훈련되지 않음\n",
    "- 후버 손실을 사용하면 좋음"
   ]
  },
  {
   "cell_type": "code",
   "execution_count": null,
   "id": "762ea103",
   "metadata": {},
   "outputs": [],
   "source": []
  },
  {
   "cell_type": "code",
   "execution_count": 19,
   "id": "185fbf66",
   "metadata": {
    "ExecuteTime": {
     "end_time": "2023-03-14T08:24:11.141598Z",
     "start_time": "2023-03-14T08:24:10.706501Z"
    }
   },
   "outputs": [],
   "source": [
    "from sklearn.datasets import fetch_california_housing\n",
    "from sklearn.model_selection import train_test_split\n",
    "from sklearn.preprocessing import StandardScaler\n",
    "\n",
    "housing = fetch_california_housing()\n",
    "X_train_full, X_test, y_train_full, y_test = train_test_split(\n",
    "    housing.data, housing.target.reshape(-1, 1), random_state=42)\n",
    "X_train, X_valid, y_train, y_valid = train_test_split(\n",
    "    X_train_full, y_train_full, random_state=42)\n",
    "\n",
    "scaler = StandardScaler()\n",
    "X_train_scaled = scaler.fit_transform(X_train)\n",
    "X_valid_scaled = scaler.transform(X_valid)\n",
    "X_test_scaled = scaler.transform(X_test)"
   ]
  },
  {
   "cell_type": "code",
   "execution_count": 18,
   "id": "ebdfa0e6",
   "metadata": {
    "ExecuteTime": {
     "end_time": "2023-03-14T08:21:19.284814Z",
     "start_time": "2023-03-14T08:21:19.279813Z"
    }
   },
   "outputs": [],
   "source": [
    "def huber_fn(y_true, y_pred):\n",
    "    error = y_true - y_pred\n",
    "    is_small_error = tf.abs(error) < 1\n",
    "    squared_loss = tf.square(error) / 2\n",
    "    linear_loss = tf.abs(error) - 0.5\n",
    "    return tf.where(is_small_error, squared_loss, linear_loss)"
   ]
  },
  {
   "cell_type": "markdown",
   "id": "a29c1287",
   "metadata": {},
   "source": [
    "전체 손실의 평균이 아니라 샘플마다 하나의 손실을 담은 텐서를 반환하는 것이 좋음\n",
    "- 이렇게 해야 필요할 때 케라스가 클래스 가중치나 샘플 가중치를 적용할 수 있음"
   ]
  },
  {
   "cell_type": "code",
   "execution_count": 23,
   "id": "5ef87b99",
   "metadata": {
    "ExecuteTime": {
     "end_time": "2023-03-14T08:25:13.124454Z",
     "start_time": "2023-03-14T08:25:12.802878Z"
    }
   },
   "outputs": [
    {
     "data": {
      "image/png": "[encoded data removed]",
      "text/plain": [
       "<Figure size 800x350 with 1 Axes>"
      ]
     },
     "metadata": {},
     "output_type": "display_data"
    }
   ],
   "source": [
    "plt.figure(figsize=(8, 3.5))\n",
    "z = np.linspace(-4, 4, 200)\n",
    "plt.plot(z, huber_fn(0, z), \"b-\", linewidth=2, label=\"huber($z$)\")\n",
    "plt.plot(z, z**2 / 2, \"b:\", linewidth=1, label=r\"$\\frac{1}{2}z^2$\")\n",
    "plt.plot([-1, -1], [0, huber_fn(0., -1.)], \"r--\")\n",
    "plt.plot([1, 1], [0, huber_fn(0., 1.)], \"r--\")\n",
    "plt.gca().axhline(y=0, color='k')\n",
    "plt.gca().axvline(x=0, color='k')\n",
    "plt.axis([-4, 4, 0, 4])\n",
    "plt.grid(True)\n",
    "plt.xlabel(\"$z$\")\n",
    "plt.legend(fontsize=14)\n",
    "plt.title(\"Huber loss\", fontsize=14)\n",
    "plt.show()"
   ]
  },
  {
   "cell_type": "code",
   "execution_count": 24,
   "id": "aa05c6a9",
   "metadata": {
    "ExecuteTime": {
     "end_time": "2023-03-14T08:25:28.619037Z",
     "start_time": "2023-03-14T08:25:28.575036Z"
    }
   },
   "outputs": [],
   "source": [
    "input_shape = X_train.shape[1:]\n",
    "\n",
    "model = keras.models.Sequential([\n",
    "    keras.layers.Dense(30, activation=\"selu\", kernel_initializer=\"lecun_normal\",\n",
    "                       input_shape=input_shape),\n",
    "    keras.layers.Dense(1),\n",
    "])"
   ]
  },
  {
   "cell_type": "code",
   "execution_count": 25,
   "id": "9923c602",
   "metadata": {
    "ExecuteTime": {
     "end_time": "2023-03-14T08:25:33.121669Z",
     "start_time": "2023-03-14T08:25:33.097648Z"
    }
   },
   "outputs": [],
   "source": [
    "model.compile(loss=huber_fn, optimizer=\"nadam\", metrics=[\"mae\"])"
   ]
  },
  {
   "cell_type": "code",
   "execution_count": 26,
   "id": "a0d5623b",
   "metadata": {
    "ExecuteTime": {
     "end_time": "2023-03-14T08:25:40.858463Z",
     "start_time": "2023-03-14T08:25:39.352128Z"
    }
   },
   "outputs": [
    {
     "name": "stdout",
     "output_type": "stream",
     "text": [
      "Epoch 1/2\n",
      "363/363 [==============================] - 1s 1ms/step - loss: 0.5660 - mae: 0.9246 - val_loss: 0.2617 - val_mae: 0.5544\n",
      "Epoch 2/2\n",
      "363/363 [==============================] - 0s 973us/step - loss: 0.2126 - mae: 0.5075 - val_loss: 0.2154 - val_mae: 0.5042\n"
     ]
    },
    {
     "data": {
      "text/plain": [
       "<keras.callbacks.History at 0x246e49989d0>"
      ]
     },
     "execution_count": 26,
     "metadata": {},
     "output_type": "execute_result"
    }
   ],
   "source": [
    "model.fit(X_train_scaled, y_train, epochs=2,\n",
    "          validation_data=(X_valid_scaled, y_valid))"
   ]
  },
  {
   "cell_type": "markdown",
   "id": "69424619",
   "metadata": {},
   "source": [
    "`huber_fn()` 함수를 호출하여 손실을 계산하고 이를 사용해 경사 하강법을 수행함\n",
    "- 에포크 시작부터 전체 손실을 기록하여 평균 손실을 출력함"
   ]
  },
  {
   "cell_type": "markdown",
   "id": "0301b3f6",
   "metadata": {},
   "source": [
    "## 사용자 정의 요소를 가진 모델을 저장하고 로드하기"
   ]
  },
  {
   "cell_type": "markdown",
   "id": "507074a6",
   "metadata": {},
   "source": [
    "모델을 로드할 때는 함수 이름과 실제 함수를 매핑한 딕셔너리를 전달해야함"
   ]
  },
  {
   "cell_type": "code",
   "execution_count": 29,
   "id": "30656c88",
   "metadata": {
    "ExecuteTime": {
     "end_time": "2023-03-14T08:29:29.088878Z",
     "start_time": "2023-03-14T08:29:29.065858Z"
    }
   },
   "outputs": [],
   "source": [
    "model.save(\"my_model_with_a_custom_loss.h5\")"
   ]
  },
  {
   "cell_type": "code",
   "execution_count": 30,
   "id": "a4040625",
   "metadata": {
    "ExecuteTime": {
     "end_time": "2023-03-14T08:29:37.548765Z",
     "start_time": "2023-03-14T08:29:37.498754Z"
    }
   },
   "outputs": [],
   "source": [
    "model = keras.models.load_model(\"my_model_with_a_custom_loss.h5\",\n",
    "                                custom_objects={\"huber_fn\": huber_fn})"
   ]
  },
  {
   "cell_type": "code",
   "execution_count": 31,
   "id": "b8663b73",
   "metadata": {
    "ExecuteTime": {
     "end_time": "2023-03-14T08:29:42.990169Z",
     "start_time": "2023-03-14T08:29:41.850922Z"
    }
   },
   "outputs": [
    {
     "name": "stdout",
     "output_type": "stream",
     "text": [
      "Epoch 1/2\n",
      "363/363 [==============================] - 1s 1ms/step - loss: 0.2016 - mae: 0.4924 - val_loss: 0.1898 - val_mae: 0.4722\n",
      "Epoch 2/2\n",
      "363/363 [==============================] - 0s 945us/step - loss: 0.1969 - mae: 0.4857 - val_loss: 0.1803 - val_mae: 0.4640\n"
     ]
    },
    {
     "data": {
      "text/plain": [
       "<keras.callbacks.History at 0x246ebe6c6a0>"
      ]
     },
     "execution_count": 31,
     "metadata": {},
     "output_type": "execute_result"
    }
   ],
   "source": [
    "model.fit(X_train_scaled, y_train, epochs=2,\n",
    "          validation_data=(X_valid_scaled, y_valid))"
   ]
  },
  {
   "cell_type": "code",
   "execution_count": null,
   "id": "7292b7e0",
   "metadata": {},
   "outputs": [],
   "source": []
  }
 ],
 "metadata": {
  "kernelspec": {
   "display_name": "Python 3 (ipykernel)",
   "language": "python",
   "name": "python3"
  },
  "language_info": {
   "codemirror_mode": {
    "name": "ipython",
    "version": 3
   },
   "file_extension": ".py",
   "mimetype": "text/x-python",
   "name": "python",
   "nbconvert_exporter": "python",
   "pygments_lexer": "ipython3",
   "version": "3.9.13"
  },
  "toc": {
   "base_numbering": 1,
   "nav_menu": {},
   "number_sections": true,
   "sideBar": true,
   "skip_h1_title": false,
   "title_cell": "Table of Contents",
   "title_sidebar": "Contents",
   "toc_cell": false,
   "toc_position": {},
   "toc_section_display": true,
   "toc_window_display": false
  },
  "varInspector": {
   "cols": {
    "lenName": 16,
    "lenType": 16,
    "lenVar": 40
   },
   "kernels_config": {
    "python": {
     "delete_cmd_postfix": "",
     "delete_cmd_prefix": "del ",
     "library": "var_list.py",
     "varRefreshCmd": "print(var_dic_list())"
    },
    "r": {
     "delete_cmd_postfix": ") ",
     "delete_cmd_prefix": "rm(",
     "library": "var_list.r",
     "varRefreshCmd": "cat(var_dic_list()) "
    }
   },
   "types_to_exclude": [
    "module",
    "function",
    "builtin_function_or_method",
    "instance",
    "_Feature"
   ],
   "window_display": false
  }
 },
 "nbformat": 4,
 "nbformat_minor": 5
}
