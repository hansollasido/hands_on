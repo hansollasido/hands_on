{
 "cells": [
  {
   "cell_type": "markdown",
   "id": "d22b40d9",
   "metadata": {},
   "source": [
    "# 텐서플로 훑어보기"
   ]
  },
  {
   "cell_type": "markdown",
   "id": "c6ea8056",
   "metadata": {},
   "source": [
    "텐서플로는 강력한 수치 계산용 라이브러리임\n",
    "- 구글 브레인 팀에서 개발했고 구글 클라우드 스피치, 구글 포토, 구글 검색과 같은 대규모 서비스에 사용됨\n"
   ]
  },
  {
   "cell_type": "markdown",
   "id": "1e537311",
   "metadata": {},
   "source": [
    "**텐서플로**가 제공하는 것들 요약\n",
    "1. 핵심 구조는 넘파이와 매우 비슷하지만 GPU를 지원함\n",
    "2. (여러 장치와 서버에 대해서) 분산 컴퓨팅을 지원함\n",
    "3. 일종의 JIT(just-in-time) 컴파일러를 포함함. 속도를 높이고 메모리 사용량을 줄이기 위해 계산을 최적화함. 파이썬 함수에서 **계산 그래프**를 추출한 다음 최적화하고 효율적으로 실행함\n",
    "4. 계산 그래프는 플랫폼에 중립적인 포맷으로 내보낼 수 있으므로 한 환경에서 텐서플로 모델을 훈련하고 다른 환경에서 실행할 수 있음\n",
    "5. 텐서플로는 자동 미분 기능과 RMSProp, Nadam 같은 고성능 옵티마이저를 제공하므로 모든 종류의 손실 함수를 쉽게 최소화할 수 있음"
   ]
  },
  {
   "cell_type": "markdown",
   "id": "73853d70",
   "metadata": {},
   "source": [
    "- 데이터 적재와 전처리 연산(tf.data, tf.io)\n",
    "- 이미지 처리 연산(tf.image)\n",
    "- 신호 처리 연산(tf.signal) 등이 있음\n",
    "\n"
   ]
  },
  {
   "cell_type": "markdown",
   "id": "3a748b14",
   "metadata": {},
   "source": [
    "가장 저수준의 텐서플로 연산은 매우 효율적인 C++ 코드로 구현되어 있음\n",
    "- 많은 연산은 **커널**이라 부르는 여러 구현을 가짐\n",
    "- 각 커널은 CPU, GPU, TPU(텐서 처리 장치)와 같은 특정 장치에 맞추어 만들어졌음\n",
    "- TPU은 딥러닝 연산을 위해 특별하게 설계된 ASIC 칩임\n"
   ]
  },
  {
   "cell_type": "markdown",
   "id": "06c06add",
   "metadata": {},
   "source": [
    "# 넘파이처럼 텐서플로 사용하기"
   ]
  },
  {
   "cell_type": "markdown",
   "id": "3eb5494c",
   "metadata": {},
   "source": [
    "텐서는 넘파이 ndarray와 매우 비슷함\n",
    "- 텐서는 일반적으로 다차원 배열이나 스칼라 값도 가질 수 있음"
   ]
  },
  {
   "cell_type": "markdown",
   "id": "2e6beb5d",
   "metadata": {},
   "source": [
    "## 텐서와 연산"
   ]
  },
  {
   "cell_type": "markdown",
   "id": "84c753e7",
   "metadata": {},
   "source": [
    "`tf.constant()` 함수로 텐서를 만들 수 있음"
   ]
  },
  {
   "cell_type": "code",
   "execution_count": 10,
   "id": "2ad946e0",
   "metadata": {
    "ExecuteTime": {
     "end_time": "2023-04-23T10:38:24.903435Z",
     "start_time": "2023-04-23T10:38:24.882493Z"
    }
   },
   "outputs": [],
   "source": [
    "# Python ≥3.5 is required\n",
    "import sys\n",
    "assert sys.version_info >= (3, 5)\n",
    "\n",
    "# Scikit-Learn ≥0.20 is required\n",
    "import sklearn\n",
    "assert sklearn.__version__ >= \"0.20\"\n",
    "\n",
    "try:\n",
    "    # %tensorflow_version only exists in Colab.\n",
    "    %tensorflow_version 2.x\n",
    "except Exception:\n",
    "    pass\n",
    "\n",
    "# TensorFlow ≥2.4 is required in this notebook\n",
    "# Earlier 2.x versions will mostly work the same, but with a few bugs\n",
    "import tensorflow as tf\n",
    "from tensorflow import keras\n",
    "\n",
    "# Common imports\n",
    "import numpy as np\n",
    "import os\n",
    "\n",
    "# to make this notebook's output stable across runs\n",
    "np.random.seed(42)\n",
    "tf.random.set_seed(42)\n",
    "\n",
    "# To plot pretty figures\n",
    "%matplotlib inline\n",
    "import matplotlib as mpl\n",
    "import matplotlib.pyplot as plt\n",
    "mpl.rc('axes', labelsize=14)\n",
    "mpl.rc('xtick', labelsize=12)\n",
    "mpl.rc('ytick', labelsize=12)\n",
    "\n",
    "# Where to save the figures\n",
    "PROJECT_ROOT_DIR = \".\"\n",
    "CHAPTER_ID = \"deep\"\n",
    "IMAGES_PATH = os.path.join(PROJECT_ROOT_DIR, \"images\", CHAPTER_ID)\n",
    "os.makedirs(IMAGES_PATH, exist_ok=True)\n",
    "\n",
    "# def save_fig(fig_id, tight_layout=True, fig_extension=\"png\", resolution=300):\n",
    "#     path = os.path.join(IMAGES_PATH, fig_id + \".\" + fig_extension)\n",
    "#     print(\"Saving figure\", fig_id)\n",
    "#     if tight_layout:\n",
    "#         plt.tight_layout()\n",
    "#     plt.savefig(path, format=fig_extension, dpi=resolution)"
   ]
  },
  {
   "cell_type": "code",
   "execution_count": 11,
   "id": "54c65ea3",
   "metadata": {
    "ExecuteTime": {
     "end_time": "2023-04-23T10:38:24.918399Z",
     "start_time": "2023-04-23T10:38:24.906440Z"
    }
   },
   "outputs": [
    {
     "data": {
      "text/plain": [
       "<tf.Tensor: shape=(2, 3), dtype=float32, numpy=\n",
       "array([[1., 2., 3.],\n",
       "       [4., 5., 6.]], dtype=float32)>"
      ]
     },
     "execution_count": 11,
     "metadata": {},
     "output_type": "execute_result"
    }
   ],
   "source": [
    "import tensorflow as tf\n",
    "\n",
    "tf.constant([[1., 2., 3.], [4., 5., 6.]]) # 행렬"
   ]
  },
  {
   "cell_type": "code",
   "execution_count": 12,
   "id": "d1251327",
   "metadata": {
    "ExecuteTime": {
     "end_time": "2023-04-23T10:38:24.933374Z",
     "start_time": "2023-04-23T10:38:24.921387Z"
    }
   },
   "outputs": [
    {
     "data": {
      "text/plain": [
       "<tf.Tensor: shape=(), dtype=int32, numpy=42>"
      ]
     },
     "execution_count": 12,
     "metadata": {},
     "output_type": "execute_result"
    }
   ],
   "source": [
    "tf.constant(42) # 스칼라"
   ]
  },
  {
   "cell_type": "code",
   "execution_count": 13,
   "id": "6d261370",
   "metadata": {
    "ExecuteTime": {
     "end_time": "2023-04-23T10:38:24.948346Z",
     "start_time": "2023-04-23T10:38:24.936348Z"
    }
   },
   "outputs": [
    {
     "data": {
      "text/plain": [
       "TensorShape([2, 3])"
      ]
     },
     "execution_count": 13,
     "metadata": {},
     "output_type": "execute_result"
    }
   ],
   "source": [
    "t = tf.constant([[1., 2., 3.], [4., 5., 6.]])\n",
    "t.shape"
   ]
  },
  {
   "cell_type": "code",
   "execution_count": 14,
   "id": "d2e12c71",
   "metadata": {
    "ExecuteTime": {
     "end_time": "2023-04-23T10:38:24.963308Z",
     "start_time": "2023-04-23T10:38:24.950325Z"
    }
   },
   "outputs": [
    {
     "data": {
      "text/plain": [
       "tf.float32"
      ]
     },
     "execution_count": 14,
     "metadata": {},
     "output_type": "execute_result"
    }
   ],
   "source": [
    "t.dtype"
   ]
  },
  {
   "cell_type": "markdown",
   "id": "8844da64",
   "metadata": {},
   "source": [
    "인덱스 참조도 매우 비슷하게 작동됨"
   ]
  },
  {
   "cell_type": "code",
   "execution_count": 15,
   "id": "fe5c4098",
   "metadata": {
    "ExecuteTime": {
     "end_time": "2023-04-23T10:38:24.978236Z",
     "start_time": "2023-04-23T10:38:24.966267Z"
    }
   },
   "outputs": [
    {
     "data": {
      "text/plain": [
       "<tf.Tensor: shape=(2, 2), dtype=float32, numpy=\n",
       "array([[2., 3.],\n",
       "       [5., 6.]], dtype=float32)>"
      ]
     },
     "execution_count": 15,
     "metadata": {},
     "output_type": "execute_result"
    }
   ],
   "source": [
    "t[:, 1:]"
   ]
  },
  {
   "cell_type": "code",
   "execution_count": 16,
   "id": "720d3a7b",
   "metadata": {
    "ExecuteTime": {
     "end_time": "2023-04-23T10:38:24.993224Z",
     "start_time": "2023-04-23T10:38:24.980231Z"
    }
   },
   "outputs": [
    {
     "data": {
      "text/plain": [
       "<tf.Tensor: shape=(2, 1), dtype=float32, numpy=\n",
       "array([[2.],\n",
       "       [5.]], dtype=float32)>"
      ]
     },
     "execution_count": 16,
     "metadata": {},
     "output_type": "execute_result"
    }
   ],
   "source": [
    "t[..., 1, tf.newaxis]"
   ]
  },
  {
   "cell_type": "markdown",
   "id": "83670db0",
   "metadata": {},
   "source": [
    "텐서 연산이 가능함"
   ]
  },
  {
   "cell_type": "code",
   "execution_count": 17,
   "id": "b3baa7a5",
   "metadata": {
    "ExecuteTime": {
     "end_time": "2023-04-23T10:38:25.008193Z",
     "start_time": "2023-04-23T10:38:24.995190Z"
    }
   },
   "outputs": [
    {
     "data": {
      "text/plain": [
       "<tf.Tensor: shape=(2, 3), dtype=float32, numpy=\n",
       "array([[11., 12., 13.],\n",
       "       [14., 15., 16.]], dtype=float32)>"
      ]
     },
     "execution_count": 17,
     "metadata": {},
     "output_type": "execute_result"
    }
   ],
   "source": [
    "t + 10"
   ]
  },
  {
   "cell_type": "code",
   "execution_count": 18,
   "id": "d74c62da",
   "metadata": {
    "ExecuteTime": {
     "end_time": "2023-04-23T10:38:25.023116Z",
     "start_time": "2023-04-23T10:38:25.010150Z"
    }
   },
   "outputs": [
    {
     "data": {
      "text/plain": [
       "<tf.Tensor: shape=(2, 3), dtype=float32, numpy=\n",
       "array([[ 1.,  4.,  9.],\n",
       "       [16., 25., 36.]], dtype=float32)>"
      ]
     },
     "execution_count": 18,
     "metadata": {},
     "output_type": "execute_result"
    }
   ],
   "source": [
    "tf.square(t)"
   ]
  },
  {
   "cell_type": "code",
   "execution_count": 19,
   "id": "55fb24f6",
   "metadata": {
    "ExecuteTime": {
     "end_time": "2023-04-23T10:38:25.082950Z",
     "start_time": "2023-04-23T10:38:25.027106Z"
    }
   },
   "outputs": [
    {
     "data": {
      "text/plain": [
       "<tf.Tensor: shape=(2, 2), dtype=float32, numpy=\n",
       "array([[14., 32.],\n",
       "       [32., 77.]], dtype=float32)>"
      ]
     },
     "execution_count": 19,
     "metadata": {},
     "output_type": "execute_result"
    }
   ],
   "source": [
    "# 행렬 곱셈\n",
    "t @ tf.transpose(t)"
   ]
  },
  {
   "cell_type": "markdown",
   "id": "b04d83e4",
   "metadata": {},
   "source": [
    "`tf.add(t, 10)` : 더하기, `tf.matmul()` : 행렬 곱셈"
   ]
  },
  {
   "cell_type": "markdown",
   "id": "3cb55cf5",
   "metadata": {},
   "source": [
    "## 텐서와 넘파이"
   ]
  },
  {
   "cell_type": "markdown",
   "id": "f15e8b15",
   "metadata": {},
   "source": [
    "텐서는 넘파이와 함께 사용하기 편리함\n",
    "- 넘파이 배열로 텐서를 만들 수 있고 그 반대도 가능함"
   ]
  },
  {
   "cell_type": "code",
   "execution_count": 20,
   "id": "da87415e",
   "metadata": {
    "ExecuteTime": {
     "end_time": "2023-04-23T10:38:25.097884Z",
     "start_time": "2023-04-23T10:38:25.085917Z"
    }
   },
   "outputs": [
    {
     "data": {
      "text/plain": [
       "<tf.Tensor: shape=(3,), dtype=float64, numpy=array([2., 4., 5.])>"
      ]
     },
     "execution_count": 20,
     "metadata": {},
     "output_type": "execute_result"
    }
   ],
   "source": [
    "a = np.array([2., 4., 5.])\n",
    "tf.constant(a)"
   ]
  },
  {
   "cell_type": "code",
   "execution_count": 21,
   "id": "03d4cae5",
   "metadata": {
    "ExecuteTime": {
     "end_time": "2023-04-23T10:38:25.112871Z",
     "start_time": "2023-04-23T10:38:25.099879Z"
    }
   },
   "outputs": [
    {
     "data": {
      "text/plain": [
       "array([[1., 2., 3.],\n",
       "       [4., 5., 6.]], dtype=float32)"
      ]
     },
     "execution_count": 21,
     "metadata": {},
     "output_type": "execute_result"
    }
   ],
   "source": [
    "t.numpy() # 또는 np.array(t)"
   ]
  },
  {
   "cell_type": "code",
   "execution_count": 22,
   "id": "0d5e8214",
   "metadata": {
    "ExecuteTime": {
     "end_time": "2023-04-23T10:38:25.127831Z",
     "start_time": "2023-04-23T10:38:25.114841Z"
    }
   },
   "outputs": [
    {
     "data": {
      "text/plain": [
       "<tf.Tensor: shape=(3,), dtype=float64, numpy=array([ 4., 16., 25.])>"
      ]
     },
     "execution_count": 22,
     "metadata": {},
     "output_type": "execute_result"
    }
   ],
   "source": [
    "tf.square(a)"
   ]
  },
  {
   "cell_type": "markdown",
   "id": "130869d7",
   "metadata": {},
   "source": [
    "## 타입 변환"
   ]
  },
  {
   "cell_type": "markdown",
   "id": "035d9fe3",
   "metadata": {},
   "source": [
    "타입 변환은 성능을 크게 감소시킬 수 있음\n",
    "- 타입이 자동으로 변환되면 사용자가 눈치채지 못할 수 있음\n",
    "- 호환되지 않은 타입의 텐서로 연산을 실행하면 예외가 발생함"
   ]
  },
  {
   "cell_type": "markdown",
   "id": "d5b4a6a5",
   "metadata": {},
   "source": [
    "`tf.cast()` 함수를 사용하여 타입을 변환함"
   ]
  },
  {
   "cell_type": "code",
   "execution_count": 23,
   "id": "1b8aba88",
   "metadata": {
    "ExecuteTime": {
     "end_time": "2023-04-23T10:38:25.142764Z",
     "start_time": "2023-04-23T10:38:25.129800Z"
    }
   },
   "outputs": [
    {
     "data": {
      "text/plain": [
       "<tf.Tensor: shape=(), dtype=float32, numpy=42.0>"
      ]
     },
     "execution_count": 23,
     "metadata": {},
     "output_type": "execute_result"
    }
   ],
   "source": [
    "t2 = tf.constant(40., dtype=tf.float64)\n",
    "tf.constant(2.0) + tf.cast(t2, tf.float32)"
   ]
  },
  {
   "cell_type": "markdown",
   "id": "56b5ffd5",
   "metadata": {},
   "source": [
    "## 변수"
   ]
  },
  {
   "cell_type": "markdown",
   "id": "dfa9f727",
   "metadata": {},
   "source": [
    "`tf.Tensor`는 변경이 불가능한 객체이기 때문에 역전파로 변경되어야 하는 신경망의 가중치를 구현할 수 없음\n",
    "- 따라서 `tf.Variable`로 변수를 선언해야함"
   ]
  },
  {
   "cell_type": "markdown",
   "id": "cbc293a3",
   "metadata": {},
   "source": [
    "`tf.Variable`은 `tf.Tensor`와 비슷하게 동작함"
   ]
  },
  {
   "cell_type": "code",
   "execution_count": 24,
   "id": "d35be48e",
   "metadata": {
    "ExecuteTime": {
     "end_time": "2023-04-23T10:38:25.172717Z",
     "start_time": "2023-04-23T10:38:25.146755Z"
    }
   },
   "outputs": [
    {
     "data": {
      "text/plain": [
       "<tf.Variable 'Variable:0' shape=(2, 3) dtype=float32, numpy=\n",
       "array([[1., 2., 3.],\n",
       "       [4., 5., 6.]], dtype=float32)>"
      ]
     },
     "execution_count": 24,
     "metadata": {},
     "output_type": "execute_result"
    }
   ],
   "source": [
    "v = tf.Variable([[1., 2., 3.],[4., 5., 6.]])\n",
    "v"
   ]
  },
  {
   "cell_type": "code",
   "execution_count": 25,
   "id": "9367bd77",
   "metadata": {
    "ExecuteTime": {
     "end_time": "2023-04-23T10:38:25.202631Z",
     "start_time": "2023-04-23T10:38:25.174679Z"
    }
   },
   "outputs": [
    {
     "data": {
      "text/plain": [
       "<tf.Variable 'UnreadVariable' shape=(2, 3) dtype=float32, numpy=\n",
       "array([[100.,  42.,   0.],\n",
       "       [  8.,  10., 200.]], dtype=float32)>"
      ]
     },
     "execution_count": 25,
     "metadata": {},
     "output_type": "execute_result"
    }
   ],
   "source": [
    "v.assign(2 * v) # => [[2., 4., 6.], [8., 10., 12.]]\n",
    "v[0, 1].assign(42) # => [[2., 42., 6.], [8., 10., 12.]]\n",
    "v[:, 2].assign([0., 1.]) # => [[2., 42., 0.], [8., 10., 1.]]\n",
    "v.scatter_nd_update(indices = [[0, 0], [1, 2]], updates=[100., 200.])\n",
    "            # => [[100., 42., 0.], [8., 10., 200.]]"
   ]
  },
  {
   "cell_type": "markdown",
   "id": "24efbd4e",
   "metadata": {},
   "source": [
    "## 다른 데이터 구조"
   ]
  },
  {
   "cell_type": "markdown",
   "id": "801e773c",
   "metadata": {},
   "source": [
    "희소 텐서 (`tf.SparseTensor`)\n",
    "- 대부분 0으로 채워진 텐서\n",
    "\n",
    "텐서 배열 (`tf.TensorArray`)\n",
    "- 텐서의 리스트\n",
    "- 기본적으로 고정된 길이를 가지지만 동적으로 바꿀 수 있음\n",
    "- 리스트에 포함된 모든 텐서는 크기와 데이터 타입이 동일해야 함\n",
    "\n",
    "래그드 텐서 (`tf.RaggedTensor`)\n",
    "- 리스트의 리스트를 나타냄\n",
    "\n",
    "문자열 텐서\n",
    "- tf.string 타입의 텐서임\n",
    "- 바이트 문자열을 나타내고 UTF-8로 인코딩됨\n",
    "\n",
    "집합\n",
    "- 일반적인 텐서로 나타냄\n",
    "- `tf.sets` 패키지의 연산을 사용해 집합을 다룰 수 있음\n",
    "\n",
    "큐\n",
    "- 단계별로 텐서를 저장함\n",
    "- FIFO 큐, 어떤 원소에 우선권을 주는 큐, 원소를 섞는 큐, 패딩을 추가하여 크기가 다른 원소의 배치를 만드는 큐"
   ]
  },
  {
   "cell_type": "markdown",
   "id": "e71bb42d",
   "metadata": {},
   "source": [
    "# 사용자 정의 모델과 훈련 알고리즘"
   ]
  },
  {
   "cell_type": "markdown",
   "id": "fbf17bed",
   "metadata": {},
   "source": [
    "회귀 모델을 훈련하는 데 훈련 세트에 잡음 데이터가 조금 있다고 가정하자. 비효율적이고 잡음 데이터가 남아 있을 때 어떻게 할까?\n",
    "- 평균 제곱 오차는 큰 오차에 너무 과한 벌칙을 가하므로 정확하지 않은 모델이 만들어짐\n",
    "- 평균 절댓값 오차는 이상치에 관대해서 훈련이 수렴되기까지 시간이 걸림\n",
    "    - 모델이 정확하게 훈련되지 않음\n",
    "- 후버 손실을 사용하면 좋음"
   ]
  },
  {
   "cell_type": "code",
   "execution_count": 26,
   "id": "185fbf66",
   "metadata": {
    "ExecuteTime": {
     "end_time": "2023-04-23T10:38:25.441991Z",
     "start_time": "2023-04-23T10:38:25.204613Z"
    }
   },
   "outputs": [],
   "source": [
    "from sklearn.datasets import fetch_california_housing\n",
    "from sklearn.model_selection import train_test_split\n",
    "from sklearn.preprocessing import StandardScaler\n",
    "\n",
    "housing = fetch_california_housing()\n",
    "X_train_full, X_test, y_train_full, y_test = train_test_split(\n",
    "    housing.data, housing.target.reshape(-1, 1), random_state=42)\n",
    "X_train, X_valid, y_train, y_valid = train_test_split(\n",
    "    X_train_full, y_train_full, random_state=42)\n",
    "\n",
    "scaler = StandardScaler()\n",
    "X_train_scaled = scaler.fit_transform(X_train)\n",
    "X_valid_scaled = scaler.transform(X_valid)\n",
    "X_test_scaled = scaler.transform(X_test)"
   ]
  },
  {
   "cell_type": "code",
   "execution_count": 27,
   "id": "ebdfa0e6",
   "metadata": {
    "ExecuteTime": {
     "end_time": "2023-04-23T10:38:25.456925Z",
     "start_time": "2023-04-23T10:38:25.443972Z"
    }
   },
   "outputs": [],
   "source": [
    "def huber_fn(y_true, y_pred):\n",
    "    error = y_true - y_pred\n",
    "    is_small_error = tf.abs(error) < 1\n",
    "    squared_loss = tf.square(error) / 2\n",
    "    linear_loss = tf.abs(error) - 0.5\n",
    "    return tf.where(is_small_error, squared_loss, linear_loss)"
   ]
  },
  {
   "cell_type": "markdown",
   "id": "a29c1287",
   "metadata": {},
   "source": [
    "전체 손실의 평균이 아니라 샘플마다 하나의 손실을 담은 텐서를 반환하는 것이 좋음\n",
    "- 이렇게 해야 필요할 때 케라스가 클래스 가중치나 샘플 가중치를 적용할 수 있음"
   ]
  },
  {
   "cell_type": "code",
   "execution_count": 28,
   "id": "5ef87b99",
   "metadata": {
    "ExecuteTime": {
     "end_time": "2023-04-23T10:38:25.832756Z",
     "start_time": "2023-04-23T10:38:25.459923Z"
    }
   },
   "outputs": [
    {
     "data": {
      "image/png": "[encoded data removed]",
      "text/plain": [
       "<Figure size 800x350 with 1 Axes>"
      ]
     },
     "metadata": {},
     "output_type": "display_data"
    }
   ],
   "source": [
    "plt.figure(figsize=(8, 3.5))\n",
    "z = np.linspace(-4, 4, 200)\n",
    "plt.plot(z, huber_fn(0, z), \"b-\", linewidth=2, label=\"huber($z$)\")\n",
    "plt.plot(z, z**2 / 2, \"b:\", linewidth=1, label=r\"$\\frac{1}{2}z^2$\")\n",
    "plt.plot([-1, -1], [0, huber_fn(0., -1.)], \"r--\")\n",
    "plt.plot([1, 1], [0, huber_fn(0., 1.)], \"r--\")\n",
    "plt.gca().axhline(y=0, color='k')\n",
    "plt.gca().axvline(x=0, color='k')\n",
    "plt.axis([-4, 4, 0, 4])\n",
    "plt.grid(True)\n",
    "plt.xlabel(\"$z$\")\n",
    "plt.legend(fontsize=14)\n",
    "plt.title(\"Huber loss\", fontsize=14)\n",
    "plt.show()"
   ]
  },
  {
   "cell_type": "code",
   "execution_count": 29,
   "id": "aa05c6a9",
   "metadata": {
    "ExecuteTime": {
     "end_time": "2023-04-23T10:38:26.012839Z",
     "start_time": "2023-04-23T10:38:25.834575Z"
    }
   },
   "outputs": [],
   "source": [
    "input_shape = X_train.shape[1:]\n",
    "\n",
    "model = keras.models.Sequential([\n",
    "    keras.layers.Dense(30, activation=\"selu\", kernel_initializer=\"lecun_normal\",\n",
    "                       input_shape=input_shape),\n",
    "    keras.layers.Dense(1),\n",
    "])"
   ]
  },
  {
   "cell_type": "code",
   "execution_count": 30,
   "id": "9923c602",
   "metadata": {
    "ExecuteTime": {
     "end_time": "2023-04-23T10:38:26.042881Z",
     "start_time": "2023-04-23T10:38:26.015844Z"
    }
   },
   "outputs": [],
   "source": [
    "model.compile(loss=huber_fn, optimizer=\"nadam\", metrics=[\"mae\"])"
   ]
  },
  {
   "cell_type": "code",
   "execution_count": 31,
   "id": "a0d5623b",
   "metadata": {
    "ExecuteTime": {
     "end_time": "2023-04-23T10:38:28.056111Z",
     "start_time": "2023-04-23T10:38:26.044889Z"
    }
   },
   "outputs": [
    {
     "name": "stdout",
     "output_type": "stream",
     "text": [
      "Epoch 1/2\n",
      "363/363 [==============================] - 1s 2ms/step - loss: 0.5446 - mae: 0.8936 - val_loss: 0.3073 - val_mae: 0.5983\n",
      "Epoch 2/2\n",
      "363/363 [==============================] - 1s 1ms/step - loss: 0.2135 - mae: 0.5046 - val_loss: 0.2625 - val_mae: 0.5466\n"
     ]
    },
    {
     "data": {
      "text/plain": [
       "<keras.callbacks.History at 0x2564107ffd0>"
      ]
     },
     "execution_count": 31,
     "metadata": {},
     "output_type": "execute_result"
    }
   ],
   "source": [
    "model.fit(X_train_scaled, y_train, epochs=2,\n",
    "          validation_data=(X_valid_scaled, y_valid))"
   ]
  },
  {
   "cell_type": "markdown",
   "id": "69424619",
   "metadata": {},
   "source": [
    "`huber_fn()` 함수를 호출하여 손실을 계산하고 이를 사용해 경사 하강법을 수행함\n",
    "- 에포크 시작부터 전체 손실을 기록하여 평균 손실을 출력함"
   ]
  },
  {
   "cell_type": "markdown",
   "id": "0301b3f6",
   "metadata": {},
   "source": [
    "## 사용자 정의 요소를 가진 모델을 저장하고 로드하기"
   ]
  },
  {
   "cell_type": "markdown",
   "id": "507074a6",
   "metadata": {},
   "source": [
    "모델을 로드할 때는 함수 이름과 실제 함수를 매핑한 딕셔너리를 전달해야함"
   ]
  },
  {
   "cell_type": "code",
   "execution_count": 32,
   "id": "30656c88",
   "metadata": {
    "ExecuteTime": {
     "end_time": "2023-04-23T10:38:28.086789Z",
     "start_time": "2023-04-23T10:38:28.058106Z"
    }
   },
   "outputs": [],
   "source": [
    "model.save(\"my_model_with_a_custom_loss.h5\")"
   ]
  },
  {
   "cell_type": "code",
   "execution_count": 33,
   "id": "a4040625",
   "metadata": {
    "ExecuteTime": {
     "end_time": "2023-04-23T10:38:28.147008Z",
     "start_time": "2023-04-23T10:38:28.090780Z"
    }
   },
   "outputs": [],
   "source": [
    "model = keras.models.load_model(\"my_model_with_a_custom_loss.h5\",\n",
    "                                custom_objects={\"huber_fn\": huber_fn})"
   ]
  },
  {
   "cell_type": "code",
   "execution_count": 34,
   "id": "b8663b73",
   "metadata": {
    "ExecuteTime": {
     "end_time": "2023-04-23T10:38:29.736499Z",
     "start_time": "2023-04-23T10:38:28.148841Z"
    }
   },
   "outputs": [
    {
     "name": "stdout",
     "output_type": "stream",
     "text": [
      "Epoch 1/2\n",
      "363/363 [==============================] - 1s 2ms/step - loss: 0.2010 - mae: 0.4887 - val_loss: 0.2057 - val_mae: 0.4848\n",
      "Epoch 2/2\n",
      "363/363 [==============================] - 1s 1ms/step - loss: 0.1939 - mae: 0.4786 - val_loss: 0.1827 - val_mae: 0.4627\n"
     ]
    },
    {
     "data": {
      "text/plain": [
       "<keras.callbacks.History at 0x25644b3b4f0>"
      ]
     },
     "execution_count": 34,
     "metadata": {},
     "output_type": "execute_result"
    }
   ],
   "source": [
    "model.fit(X_train_scaled, y_train, epochs=2,\n",
    "          validation_data=(X_valid_scaled, y_valid))"
   ]
  },
  {
   "cell_type": "markdown",
   "id": "81c8f14d",
   "metadata": {},
   "source": [
    "-1과 1 사이의 오차는 작은 것으로 간주하기 때문에 다른 기준이 필요할 때는 매개변수를 받을 수 있는 함수를 만드는 것임"
   ]
  },
  {
   "cell_type": "code",
   "execution_count": 35,
   "id": "27bc6128",
   "metadata": {
    "ExecuteTime": {
     "end_time": "2023-04-23T10:38:29.766488Z",
     "start_time": "2023-04-23T10:38:29.739251Z"
    }
   },
   "outputs": [],
   "source": [
    "def create_huber(threshold=1.0):\n",
    "    def huber_fn(y_true, y_pred):\n",
    "        error = y_true - y_pred\n",
    "        is_small_error = tf.abs(error) < threshold\n",
    "        squared_loss = tf.square(error) / 2\n",
    "        linear_loss = threshold * tf.abs(error) - threshold**2 / 2\n",
    "        return tf.where(is_small_error, squared_loss, linear_loss)\n",
    "    return huber_fn\n",
    "\n",
    "model.compile(loss=create_huber(2.0), optimizer=\"nadam\")"
   ]
  },
  {
   "cell_type": "markdown",
   "id": "36bae1e9",
   "metadata": {},
   "source": [
    "모델을 저장할 때 threshold 값은 저장되지 않음\n",
    "- 따라서 로드할 때 따로 threshold 값을 지정해야함"
   ]
  },
  {
   "cell_type": "code",
   "execution_count": 36,
   "id": "af900f67",
   "metadata": {
    "ExecuteTime": {
     "end_time": "2023-04-23T10:38:29.826852Z",
     "start_time": "2023-04-23T10:38:29.768778Z"
    }
   },
   "outputs": [],
   "source": [
    "model = keras.models.load_model(\"my_model_with_a_custom_loss.h5\",\n",
    "                               custom_objects={\"huber_fn\":create_huber(2.0)})"
   ]
  },
  {
   "cell_type": "markdown",
   "id": "c7aacc07",
   "metadata": {},
   "source": [
    "`keras.losses.Loss` 클래스를 상속하고 `get_config()` 메서드를 구현하여 해결할 수 있음"
   ]
  },
  {
   "cell_type": "code",
   "execution_count": 37,
   "id": "819ba4e8",
   "metadata": {
    "ExecuteTime": {
     "end_time": "2023-04-23T10:38:29.856599Z",
     "start_time": "2023-04-23T10:38:29.833620Z"
    }
   },
   "outputs": [],
   "source": [
    "class HuberLoss(keras.losses.Loss):\n",
    "    def __init__(self, threshold=1.0, **kwargs):\n",
    "        self.threshold = threshold\n",
    "        super().__init__(**kwargs)\n",
    "    def call(self, y_true, y_pred):\n",
    "        error = y_true - y_pred\n",
    "        is_small_error = tf.abs(error) < self.threshold\n",
    "        squared_loss = tf.square(error) / 2\n",
    "        linear_loss  = self.threshold * tf.abs(error) - self.threshold**2 / 2\n",
    "        return tf.where(is_small_error, squared_loss, linear_loss)\n",
    "    def get_config(self):\n",
    "        base_config = super().get_config()\n",
    "        return {**base_config, \"threshold\": self.threshold}"
   ]
  },
  {
   "cell_type": "markdown",
   "id": "718da571",
   "metadata": {},
   "source": [
    "- 하이퍼파라미터를 `**kwargs`로 받은 매개변수 값을 부모 클래스의 생성자에게 전달함. 손실 함수의 name과 개별 샘플의 손실을 모으기 위해 reduction 알고리즘임. 기본값은 \"sum_over_batch_size\"로 샘플 손실에 가중치를 곱하여 더하고 배치 크기로 나눔. 샘플 가중치가 없다면 1.0으로 간주함. 다른 값으로는 \"sum\"과 \"none\"이 있음\n",
    "- `call()` 메서드는 레이블과 예측을 받고 모든 샘플의 손실을 계산하여 반환함\n",
    "- `get_config()` 메서드는 하이퍼파라미터 이름과 같이 매핑된 딕셔너리를 반환함. 부모 클래스의 `get_config()` 메서드를 호출하고 그 다음 반환된 딕셔너리에 새로운 하이퍼파라미터를 추가함"
   ]
  },
  {
   "cell_type": "code",
   "execution_count": 38,
   "id": "bbfb7cd5",
   "metadata": {
    "ExecuteTime": {
     "end_time": "2023-04-23T10:38:29.902819Z",
     "start_time": "2023-04-23T10:38:29.859552Z"
    }
   },
   "outputs": [],
   "source": [
    "model = keras.models.Sequential([\n",
    "    keras.layers.Dense(30, activation=\"selu\", kernel_initializer=\"lecun_normal\",\n",
    "                       input_shape=input_shape),\n",
    "    keras.layers.Dense(1),\n",
    "])"
   ]
  },
  {
   "cell_type": "code",
   "execution_count": 39,
   "id": "b275a43b",
   "metadata": {
    "ExecuteTime": {
     "end_time": "2023-04-23T10:38:29.918012Z",
     "start_time": "2023-04-23T10:38:29.905813Z"
    }
   },
   "outputs": [],
   "source": [
    "model.compile(loss=HuberLoss(2.), optimizer=\"nadam\")"
   ]
  },
  {
   "cell_type": "markdown",
   "id": "30073d14",
   "metadata": {},
   "source": [
    "모델을 저장할 때 임곗값도 함께 저장됨. 모델을 로드할 때 클래스 이름과 클래스 자체를 매핑해주어야 함"
   ]
  },
  {
   "cell_type": "code",
   "execution_count": 40,
   "id": "e432d5ea",
   "metadata": {
    "ExecuteTime": {
     "end_time": "2023-04-23T10:38:31.775314Z",
     "start_time": "2023-04-23T10:38:29.919823Z"
    }
   },
   "outputs": [
    {
     "name": "stdout",
     "output_type": "stream",
     "text": [
      "Epoch 1/2\n",
      "363/363 [==============================] - 1s 2ms/step - loss: 0.8566 - val_loss: 0.4708\n",
      "Epoch 2/2\n",
      "363/363 [==============================] - 1s 1ms/step - loss: 0.2521 - val_loss: 0.3740\n"
     ]
    },
    {
     "data": {
      "text/plain": [
       "<keras.callbacks.History at 0x2564115bdc0>"
      ]
     },
     "execution_count": 40,
     "metadata": {},
     "output_type": "execute_result"
    }
   ],
   "source": [
    "model.fit(X_train_scaled, y_train, epochs=2,\n",
    "          validation_data=(X_valid_scaled, y_valid))"
   ]
  },
  {
   "cell_type": "code",
   "execution_count": 41,
   "id": "8845c879",
   "metadata": {
    "ExecuteTime": {
     "end_time": "2023-04-23T10:38:31.805321Z",
     "start_time": "2023-04-23T10:38:31.777248Z"
    }
   },
   "outputs": [],
   "source": [
    "model.save(\"my_model_with_a_custom_loss_class.h5\")"
   ]
  },
  {
   "cell_type": "code",
   "execution_count": 42,
   "id": "dba57df8",
   "metadata": {
    "ExecuteTime": {
     "end_time": "2023-04-23T10:38:31.865584Z",
     "start_time": "2023-04-23T10:38:31.807293Z"
    }
   },
   "outputs": [],
   "source": [
    "model = keras.models.load_model(\"my_model_with_a_custom_loss_class.h5\",\n",
    "                                custom_objects={\"HuberLoss\": HuberLoss})"
   ]
  },
  {
   "cell_type": "code",
   "execution_count": 43,
   "id": "9a43850d",
   "metadata": {
    "ExecuteTime": {
     "end_time": "2023-04-23T10:38:33.410907Z",
     "start_time": "2023-04-23T10:38:31.868396Z"
    }
   },
   "outputs": [
    {
     "name": "stdout",
     "output_type": "stream",
     "text": [
      "Epoch 1/2\n",
      "363/363 [==============================] - 1s 2ms/step - loss: 0.2349 - val_loss: 0.2712\n",
      "Epoch 2/2\n",
      "363/363 [==============================] - 1s 1ms/step - loss: 0.2249 - val_loss: 0.2127\n"
     ]
    },
    {
     "data": {
      "text/plain": [
       "<keras.callbacks.History at 0x25646df3eb0>"
      ]
     },
     "execution_count": 43,
     "metadata": {},
     "output_type": "execute_result"
    }
   ],
   "source": [
    "model.fit(X_train_scaled, y_train, epochs=2,\n",
    "          validation_data=(X_valid_scaled, y_valid))"
   ]
  },
  {
   "cell_type": "code",
   "execution_count": 44,
   "id": "84048755",
   "metadata": {
    "ExecuteTime": {
     "end_time": "2023-04-23T10:38:33.425842Z",
     "start_time": "2023-04-23T10:38:33.412876Z"
    }
   },
   "outputs": [
    {
     "data": {
      "text/plain": [
       "2.0"
      ]
     },
     "execution_count": 44,
     "metadata": {},
     "output_type": "execute_result"
    }
   ],
   "source": [
    "model.loss.threshold"
   ]
  },
  {
   "cell_type": "markdown",
   "id": "fc86924b",
   "metadata": {},
   "source": [
    "모델을 저장할 때 케라스는 손실 객체의 `get_config()` 메서드를 호출하여 반환된 설정을 HDF5 파일에 JSON 형태로 저장함\n",
    "- 모델을 로드하면 HuberLoss 클래스의 `from_config()` 클래스 메서드를 호출함\n",
    "    - 이 메서드는 기본 손실 클래스(Loss)에 구현되어 있고 생성자에게 `**config` 매개변수를 전달해 클래스의 인스턴스를 만듦"
   ]
  },
  {
   "cell_type": "markdown",
   "id": "46f9dead",
   "metadata": {},
   "source": [
    "## 활성화 함수, 초기화, 규제, 제한을 커스터마이징하기"
   ]
  },
  {
   "cell_type": "markdown",
   "id": "0628b7e1",
   "metadata": {},
   "source": [
    "대부분의 케라스 기능은 유사한 방법으로 커스터마이징 가능\n",
    "- 적절한 입력과 출력을 가진 간단한 함수를 작성하면 됨\n",
    "---\n",
    "- 사용자 정의 함수 : `keras.activations.softplus()`\n",
    "- 사용자 정의 활성화 함수 : `keras.activations.softplus()`\n",
    "- 사용자 정의 활성화 함수 : `keras.initializers.glorot_normal()`\n",
    "- 사용자 정의 $l_1$ 규제 : `keras.regularizers.l1(0.01)`\n",
    "- 양수만 남기는 사용자 정의 제한 : `keras.constraints.nonneg()` 혹은 `tf.nn.relu()`"
   ]
  },
  {
   "cell_type": "code",
   "execution_count": 45,
   "id": "5b63d4c1",
   "metadata": {
    "ExecuteTime": {
     "end_time": "2023-04-23T10:38:33.456343Z",
     "start_time": "2023-04-23T10:38:33.427836Z"
    }
   },
   "outputs": [],
   "source": [
    "keras.backend.clear_session()\n",
    "np.random.seed(42)\n",
    "tf.random.set_seed(42)"
   ]
  },
  {
   "cell_type": "code",
   "execution_count": 46,
   "id": "2ac2c098",
   "metadata": {
    "ExecuteTime": {
     "end_time": "2023-04-23T10:38:33.471976Z",
     "start_time": "2023-04-23T10:38:33.459264Z"
    }
   },
   "outputs": [],
   "source": [
    "def my_softplus(z): # tf.nn.softplus(z)가 큰 입력을 더 잘 다룹니다.\n",
    "    return tf.math.log(tf.exp(z) + 1.0)\n",
    "\n",
    "def my_glorot_initializer(shape, dtype=tf.float32):\n",
    "    stddev = tf.sqrt(2./(shape[0]+shape[1]))\n",
    "    return tf.random.normal(shape, stddev=stddev, dtype=dtype)\n",
    "\n",
    "def my_l1_regularizer(weights):\n",
    "    return tf.reduce_sum(tf.abs(0.01 * weights))\n",
    "\n",
    "def my_positive_weights(weights): # tf.nn.relu(weights)와 반환값이 같습니다.\n",
    "    return tf.where(weights < 0., tf.zeros_like(weights), weights)"
   ]
  },
  {
   "cell_type": "markdown",
   "id": "991ab3e7",
   "metadata": {},
   "source": [
    "여기서 볼 수 있듯이 매개변수는 사용자 정의하려는 함수의 종류에 따라 다름. 사용자 정의 함수는 보통의 함수와 동일하게 사용할 수 있음."
   ]
  },
  {
   "cell_type": "code",
   "execution_count": 47,
   "id": "15b75af1",
   "metadata": {
    "ExecuteTime": {
     "end_time": "2023-04-23T10:38:33.487008Z",
     "start_time": "2023-04-23T10:38:33.472978Z"
    }
   },
   "outputs": [],
   "source": [
    "layer = keras.layers.Dense(30, activation=my_softplus,\n",
    "                          kernel_initializer=my_glorot_initializer,\n",
    "                          kernel_regularizer=my_l1_regularizer,\n",
    "                          kernel_constraint=my_positive_weights)"
   ]
  },
  {
   "cell_type": "code",
   "execution_count": 48,
   "id": "b69f9672",
   "metadata": {
    "ExecuteTime": {
     "end_time": "2023-04-23T10:38:33.502101Z",
     "start_time": "2023-04-23T10:38:33.488931Z"
    }
   },
   "outputs": [],
   "source": [
    "keras.backend.clear_session()\n",
    "np.random.seed(42)\n",
    "tf.random.set_seed(42)"
   ]
  },
  {
   "cell_type": "code",
   "execution_count": 49,
   "id": "99a42944",
   "metadata": {
    "ExecuteTime": {
     "end_time": "2023-04-23T10:38:33.547541Z",
     "start_time": "2023-04-23T10:38:33.504656Z"
    }
   },
   "outputs": [],
   "source": [
    "model = keras.models.Sequential([\n",
    "    keras.layers.Dense(30, activation=\"selu\", kernel_initializer=\"lecun_normal\",\n",
    "                       input_shape=input_shape),\n",
    "    keras.layers.Dense(1, activation=my_softplus,\n",
    "                       kernel_regularizer=my_l1_regularizer,\n",
    "                       kernel_constraint=my_positive_weights,\n",
    "                       kernel_initializer=my_glorot_initializer),\n",
    "])"
   ]
  },
  {
   "cell_type": "code",
   "execution_count": 50,
   "id": "6c703d07",
   "metadata": {
    "ExecuteTime": {
     "end_time": "2023-04-23T10:38:33.578159Z",
     "start_time": "2023-04-23T10:38:33.549850Z"
    }
   },
   "outputs": [],
   "source": [
    "model.compile(loss=\"mse\", optimizer=\"nadam\", metrics=[\"mae\"])"
   ]
  },
  {
   "cell_type": "code",
   "execution_count": 51,
   "id": "947598c0",
   "metadata": {
    "ExecuteTime": {
     "end_time": "2023-04-23T10:38:35.456290Z",
     "start_time": "2023-04-23T10:38:33.581162Z"
    }
   },
   "outputs": [
    {
     "name": "stdout",
     "output_type": "stream",
     "text": [
      "Epoch 1/2\n",
      "363/363 [==============================] - 1s 2ms/step - loss: 2.0426 - mae: 1.0158 - val_loss: inf - val_mae: inf\n",
      "Epoch 2/2\n",
      "363/363 [==============================] - 1s 1ms/step - loss: 0.6592 - mae: 0.5589 - val_loss: inf - val_mae: inf\n"
     ]
    },
    {
     "data": {
      "text/plain": [
       "<keras.callbacks.History at 0x25647f30d90>"
      ]
     },
     "execution_count": 51,
     "metadata": {},
     "output_type": "execute_result"
    }
   ],
   "source": [
    "model.fit(X_train_scaled, y_train, epochs=2,\n",
    "          validation_data=(X_valid_scaled, y_valid))"
   ]
  },
  {
   "cell_type": "code",
   "execution_count": 52,
   "id": "d7db877a",
   "metadata": {
    "ExecuteTime": {
     "end_time": "2023-04-23T10:38:35.486340Z",
     "start_time": "2023-04-23T10:38:35.458283Z"
    }
   },
   "outputs": [],
   "source": [
    "model.save(\"my_model_with_many_custom_parts.h5\")"
   ]
  },
  {
   "cell_type": "markdown",
   "id": "d475860f",
   "metadata": {},
   "source": [
    "활성화 함수는 Dense 층의 출력에 적용되고 다음 층에 그 결과가 전달됨.\n",
    "- 층의 가중치는 초기화 함수에서 반환된 값으로 초기화됨\n",
    "- 훈련 스텝마다 가중치가 규제 함수에 전달되어 규제 손실을 계산하고 전체 손실에 추가되어 훈련을 위한 최종 손실을 만듦\n",
    "- 마지막으로 제한 함수가 훈련 스텝마다 호출되어 층의 가중치를 제한한 가중치 값으로 바뀜"
   ]
  },
  {
   "cell_type": "markdown",
   "id": "559024d3",
   "metadata": {},
   "source": [
    "다음은 factor 하이퍼파라미터를 저장하는 $l_1$ 규제를 위한 간단한 클래스의 예임"
   ]
  },
  {
   "cell_type": "code",
   "execution_count": 53,
   "id": "65cdec3c",
   "metadata": {
    "ExecuteTime": {
     "end_time": "2023-04-23T10:38:35.546689Z",
     "start_time": "2023-04-23T10:38:35.488204Z"
    }
   },
   "outputs": [],
   "source": [
    "model = keras.models.load_model(\n",
    "    \"my_model_with_many_custom_parts.h5\",\n",
    "    custom_objects={\n",
    "       \"my_l1_regularizer\": my_l1_regularizer,\n",
    "       \"my_positive_weights\": my_positive_weights,\n",
    "       \"my_glorot_initializer\": my_glorot_initializer,\n",
    "       \"my_softplus\": my_softplus,\n",
    "    })"
   ]
  },
  {
   "cell_type": "code",
   "execution_count": 54,
   "id": "8c52c9ac",
   "metadata": {
    "ExecuteTime": {
     "end_time": "2023-04-23T10:38:35.561730Z",
     "start_time": "2023-04-23T10:38:35.549426Z"
    }
   },
   "outputs": [],
   "source": [
    "class MyL1Regularizer(keras.regularizers.Regularizer):\n",
    "    def __init__(self, factor):\n",
    "        self.factor = factor\n",
    "    def __call__(self, weights):\n",
    "        return tf.reduce_sum(tf.abs(self.factor * weights))\n",
    "    def get_config(self):\n",
    "        return {\"factor\": self.factor}"
   ]
  },
  {
   "cell_type": "code",
   "execution_count": 55,
   "id": "77e2c79e",
   "metadata": {
    "ExecuteTime": {
     "end_time": "2023-04-23T10:38:35.576695Z",
     "start_time": "2023-04-23T10:38:35.563726Z"
    }
   },
   "outputs": [],
   "source": [
    "keras.backend.clear_session()\n",
    "np.random.seed(42)\n",
    "tf.random.set_seed(42)"
   ]
  },
  {
   "cell_type": "code",
   "execution_count": 56,
   "id": "99bf6366",
   "metadata": {
    "ExecuteTime": {
     "end_time": "2023-04-23T10:38:35.621856Z",
     "start_time": "2023-04-23T10:38:35.579681Z"
    }
   },
   "outputs": [],
   "source": [
    "model = keras.models.Sequential([\n",
    "    keras.layers.Dense(30, activation=\"selu\", kernel_initializer=\"lecun_normal\",\n",
    "                       input_shape=input_shape),\n",
    "    keras.layers.Dense(1, activation=my_softplus,\n",
    "                       kernel_regularizer=MyL1Regularizer(0.01),\n",
    "                       kernel_constraint=my_positive_weights,\n",
    "                       kernel_initializer=my_glorot_initializer),\n",
    "])"
   ]
  },
  {
   "cell_type": "code",
   "execution_count": 57,
   "id": "464c66e8",
   "metadata": {
    "ExecuteTime": {
     "end_time": "2023-04-23T10:38:35.651978Z",
     "start_time": "2023-04-23T10:38:35.624067Z"
    }
   },
   "outputs": [],
   "source": [
    "model.compile(loss=\"mse\", optimizer=\"nadam\", metrics=[\"mae\"])"
   ]
  },
  {
   "cell_type": "code",
   "execution_count": 58,
   "id": "41fdd0ea",
   "metadata": {
    "ExecuteTime": {
     "end_time": "2023-04-23T10:38:37.500252Z",
     "start_time": "2023-04-23T10:38:35.654165Z"
    }
   },
   "outputs": [
    {
     "name": "stdout",
     "output_type": "stream",
     "text": [
      "Epoch 1/2\n",
      "363/363 [==============================] - 1s 2ms/step - loss: 1.7201 - mae: 0.9317 - val_loss: inf - val_mae: inf\n",
      "Epoch 2/2\n",
      "363/363 [==============================] - 1s 1ms/step - loss: 0.6092 - mae: 0.5295 - val_loss: 2.7451 - val_mae: 0.5347\n"
     ]
    },
    {
     "data": {
      "text/plain": [
       "<keras.callbacks.History at 0x25648180520>"
      ]
     },
     "execution_count": 58,
     "metadata": {},
     "output_type": "execute_result"
    }
   ],
   "source": [
    "model.fit(X_train_scaled, y_train, epochs=2,\n",
    "          validation_data=(X_valid_scaled, y_valid))"
   ]
  },
  {
   "cell_type": "code",
   "execution_count": 59,
   "id": "a8e55226",
   "metadata": {
    "ExecuteTime": {
     "end_time": "2023-04-23T10:38:37.530283Z",
     "start_time": "2023-04-23T10:38:37.502248Z"
    }
   },
   "outputs": [],
   "source": [
    "model.save(\"my_model_with_many_custom_parts.h5\")"
   ]
  },
  {
   "cell_type": "code",
   "execution_count": 60,
   "id": "c0c6e786",
   "metadata": {
    "ExecuteTime": {
     "end_time": "2023-04-23T10:38:37.590253Z",
     "start_time": "2023-04-23T10:38:37.532202Z"
    }
   },
   "outputs": [],
   "source": [
    "model = keras.models.load_model(\n",
    "    \"my_model_with_many_custom_parts.h5\",\n",
    "    custom_objects={\n",
    "       \"MyL1Regularizer\": MyL1Regularizer,\n",
    "       \"my_positive_weights\": my_positive_weights,\n",
    "       \"my_glorot_initializer\": my_glorot_initializer,\n",
    "       \"my_softplus\": my_softplus,\n",
    "    })"
   ]
  },
  {
   "cell_type": "markdown",
   "id": "e642f498",
   "metadata": {},
   "source": [
    "손실, 층, 모델의 경우 `call()` 메서드를 구현해야함. 규제, 초기화, 제한의 경우 `__call__()` 메서드를 구현해야 함."
   ]
  },
  {
   "cell_type": "markdown",
   "id": "bfb4504f",
   "metadata": {},
   "source": [
    "## 사용자 정의 지표"
   ]
  },
  {
   "cell_type": "markdown",
   "id": "dd86503d",
   "metadata": {},
   "source": [
    "손실과 지표는 개념적으로 다른 것은 아님\n",
    "- 손실은 모델을 훈련하기 위해 경사 하강법에서 사용하므로 미분 가능해야 함.\n",
    "    - 그레이디언트가 모든 곳에서 0이 아니어야 함"
   ]
  },
  {
   "cell_type": "markdown",
   "id": "a6a5fc92",
   "metadata": {},
   "source": [
    "그렇지만 대부분의 경우 사용자 지표 함수를 만드는 것은 사용자 손실 함수를 만드는 것과 동일함\n",
    "- 후버 손실 함수는 지표로도 사용해도 잘 동작함"
   ]
  },
  {
   "cell_type": "code",
   "execution_count": 62,
   "id": "2d212a0b",
   "metadata": {
    "ExecuteTime": {
     "end_time": "2023-04-23T10:41:45.633351Z",
     "start_time": "2023-04-23T10:41:45.615401Z"
    }
   },
   "outputs": [],
   "source": [
    "keras.backend.clear_session()\n",
    "np.random.seed(42)\n",
    "tf.random.set_seed(42)"
   ]
  },
  {
   "cell_type": "code",
   "execution_count": 63,
   "id": "d32ba45e",
   "metadata": {
    "ExecuteTime": {
     "end_time": "2023-04-23T10:41:49.863994Z",
     "start_time": "2023-04-23T10:41:49.814645Z"
    }
   },
   "outputs": [],
   "source": [
    "model = keras.models.Sequential([\n",
    "    keras.layers.Dense(30, activation=\"selu\", kernel_initializer=\"lecun_normal\",\n",
    "                       input_shape=input_shape),\n",
    "    keras.layers.Dense(1),\n",
    "])"
   ]
  },
  {
   "cell_type": "code",
   "execution_count": 64,
   "id": "5078367d",
   "metadata": {
    "ExecuteTime": {
     "end_time": "2023-04-23T10:41:50.444761Z",
     "start_time": "2023-04-23T10:41:50.430769Z"
    }
   },
   "outputs": [],
   "source": [
    "model.compile(loss=\"mse\", optimizer=\"nadam\", metrics=[create_huber(2.0)])"
   ]
  },
  {
   "cell_type": "code",
   "execution_count": 65,
   "id": "eef89acf",
   "metadata": {
    "ExecuteTime": {
     "end_time": "2023-04-23T10:41:56.677634Z",
     "start_time": "2023-04-23T10:41:55.071595Z"
    }
   },
   "outputs": [
    {
     "name": "stdout",
     "output_type": "stream",
     "text": [
      "Epoch 1/2\n",
      "363/363 [==============================] - 1s 1ms/step - loss: 1.8360 - huber_fn: 0.8104\n",
      "Epoch 2/2\n",
      "363/363 [==============================] - 0s 1ms/step - loss: 0.5195 - huber_fn: 0.2452\n"
     ]
    },
    {
     "data": {
      "text/plain": [
       "<keras.callbacks.History at 0x25644b1a790>"
      ]
     },
     "execution_count": 65,
     "metadata": {},
     "output_type": "execute_result"
    }
   ],
   "source": [
    "model.fit(X_train_scaled, y_train, epochs=2)"
   ]
  },
  {
   "cell_type": "markdown",
   "id": "dc986e85",
   "metadata": {},
   "source": [
    "훈련하는 동안 각 배치에 대해 케라스는 지표를 계산하고 에포크가 시작할 때부터 평균을 기록함\n",
    "- 대부분 이 방식이 요구 사항에 맞으나 항상 그렇지는 않음\n",
    "- 이진 분류기의 정밀도를 생각해보자면\n",
    "    - 진짜 양성 개수를 양성 예측 개수로 나눈 값이 정밀도\n",
    "    - 모델이 첫 번째 배치에서 5개의 양성 예측을 만들고 그 중에 4개가 맞았다면 정밀도는 80%\n",
    "    - 그 다음에는 두 번째 배치에서 3개의 양성 예측을 만들었는데모두 틀림 -> 정밀도는 0%\n",
    "    - 두 정밀도를 평균하면 40%를 얻음\n",
    "        - 하지만 이 값은 두 배치에 대한 모델의 진짜 정밀도 값이 아님\n",
    "        - 전체를 보자면 양성 예측 (5+3) 중에 4개가 진짜 양성(4+0)이므로 정밀도는 40%가 아니라 50%임\n",
    "        - 따라서 진짜 양성 개수와 거짓 양성 개수를 기록하고 필요할 때 정밀도를 계산할 수 있는 객체가 필요함\n",
    "        - `keras.metrics.Precision`클래스가 하는 일이 바로 이것임"
   ]
  },
  {
   "cell_type": "code",
   "execution_count": 71,
   "id": "528c0ca9",
   "metadata": {
    "ExecuteTime": {
     "end_time": "2023-04-23T10:52:57.811120Z",
     "start_time": "2023-04-23T10:52:57.784207Z"
    }
   },
   "outputs": [
    {
     "data": {
      "text/plain": [
       "<tf.Tensor: shape=(), dtype=float32, numpy=0.8>"
      ]
     },
     "execution_count": 71,
     "metadata": {},
     "output_type": "execute_result"
    }
   ],
   "source": [
    "precision = keras.metrics.Precision()\n",
    "precision([0, 1, 1, 1, 0, 1, 0, 1], [1, 1, 0, 1, 0, 1, 0, 1])"
   ]
  },
  {
   "cell_type": "code",
   "execution_count": 72,
   "id": "312a4306",
   "metadata": {
    "ExecuteTime": {
     "end_time": "2023-04-23T10:52:58.486098Z",
     "start_time": "2023-04-23T10:52:58.471132Z"
    }
   },
   "outputs": [
    {
     "data": {
      "text/plain": [
       "<tf.Tensor: shape=(), dtype=float32, numpy=0.5>"
      ]
     },
     "execution_count": 72,
     "metadata": {},
     "output_type": "execute_result"
    }
   ],
   "source": [
    "precision([0, 1, 0, 0, 1, 0, 1, 1], [1, 0, 1, 1, 0, 0, 0, 0])"
   ]
  },
  {
   "cell_type": "markdown",
   "id": "f99eac76",
   "metadata": {},
   "source": [
    "Precision 클래스 객체를 만들고 이를 함수처럼 사용하여 첫 번째 배치와 두 번째 배치의 레이블과 예측을 각각 첫 번째 매개변수와 두 번째 매개변수로 전달했음\n",
    "- 첫 번째 배치를 처리한 후에 정밀도는 80%이고 두 번째 배치를 처리한 후에 정밀도는 50%임\n",
    "- 배치마다 점진적으로 업데이트되기 때문에 이를 **스트리밍 지표** 또는 **상태가 있는 지표**라고 부름"
   ]
  },
  {
   "cell_type": "markdown",
   "id": "f0d17103",
   "metadata": {},
   "source": [
    "이 지점에서 `result()` 메서드를 호출하여 현재 지푯값을 얻을 수 있음\n",
    "- 또 `variables` 속성을 사용하여 변수를 확인할 수 있음\n",
    "- `reset_states()` 메서드를 사용해 이 변수를 초기화할 수 있음"
   ]
  },
  {
   "cell_type": "code",
   "execution_count": 73,
   "id": "d941ca6a",
   "metadata": {
    "ExecuteTime": {
     "end_time": "2023-04-23T10:52:59.677327Z",
     "start_time": "2023-04-23T10:52:59.655357Z"
    }
   },
   "outputs": [
    {
     "data": {
      "text/plain": [
       "<tf.Tensor: shape=(), dtype=float32, numpy=0.5>"
      ]
     },
     "execution_count": 73,
     "metadata": {},
     "output_type": "execute_result"
    }
   ],
   "source": [
    "precision.result()"
   ]
  },
  {
   "cell_type": "code",
   "execution_count": 74,
   "id": "d9492281",
   "metadata": {
    "ExecuteTime": {
     "end_time": "2023-04-23T10:53:00.333094Z",
     "start_time": "2023-04-23T10:53:00.312148Z"
    }
   },
   "outputs": [
    {
     "data": {
      "text/plain": [
       "[<tf.Variable 'true_positives:0' shape=(1,) dtype=float32, numpy=array([4.], dtype=float32)>,\n",
       " <tf.Variable 'false_positives:0' shape=(1,) dtype=float32, numpy=array([4.], dtype=float32)>]"
      ]
     },
     "execution_count": 74,
     "metadata": {},
     "output_type": "execute_result"
    }
   ],
   "source": [
    "precision.variables"
   ]
  },
  {
   "cell_type": "code",
   "execution_count": 75,
   "id": "e3a6ad9d",
   "metadata": {
    "ExecuteTime": {
     "end_time": "2023-04-23T10:53:00.850614Z",
     "start_time": "2023-04-23T10:53:00.840640Z"
    }
   },
   "outputs": [],
   "source": [
    "precision.reset_states()"
   ]
  },
  {
   "cell_type": "markdown",
   "id": "a9d24abc",
   "metadata": {},
   "source": [
    "이런 스트리밍 지표를 만들고 싶다면 `keras.metrics.Metric` 클래스를 상속함.\n",
    "- 전체 후버 손실과 지금까지 처리한 샘플 수를 기록하는 클래스임\n",
    "- 결괏값을 요청하면 평균 후버 손실이 반환됨"
   ]
  },
  {
   "cell_type": "code",
   "execution_count": 76,
   "id": "4253eaf3",
   "metadata": {
    "ExecuteTime": {
     "end_time": "2023-04-23T10:54:02.407640Z",
     "start_time": "2023-04-23T10:54:02.400658Z"
    }
   },
   "outputs": [],
   "source": [
    "class HuberMetric(keras.metrics.Metric):\n",
    "    def __init__(self, threshold=1.0, **kwargs):\n",
    "        super().__init__(**kwargs) # handles base args (e.g., dtype)\n",
    "        self.threshold = threshold\n",
    "        self.huber_fn = create_huber(threshold)\n",
    "        self.total = self.add_weight(\"total\", initializer=\"zeros\")\n",
    "        self.count = self.add_weight(\"count\", initializer=\"zeros\")\n",
    "    def update_state(self, y_true, y_pred, sample_weight=None):\n",
    "        metric = self.huber_fn(y_true, y_pred)\n",
    "        self.total.assign_add(tf.reduce_sum(metric))\n",
    "        self.count.assign_add(tf.cast(tf.size(y_true), tf.float32))\n",
    "    def result(self):\n",
    "        return self.total / self.count\n",
    "    def get_config(self):\n",
    "        base_config = super().get_config()\n",
    "        return {**base_config, \"threshold\": self.threshold}"
   ]
  },
  {
   "cell_type": "markdown",
   "id": "fb1078a0",
   "metadata": {},
   "source": [
    "코드 내용 정리"
   ]
  },
  {
   "cell_type": "markdown",
   "id": "a4d08cea",
   "metadata": {},
   "source": [
    "- 생성자는 `add_weight()` 메서드를 사용해 여러 배치에 걸쳐 지표의 상태를 기록하기 위한 변수를 만듦. 이 예에서는 후버 손실의 합(total)과 지금까지 처리한 샘플 수(count)를 기록함. 원한다면 수동으로 변수를 만들 수 있음. 케라스는 속성으로 만들어진 모든 `tf.Variable`을 관리함"
   ]
  },
  {
   "cell_type": "markdown",
   "id": "d6f042f1",
   "metadata": {},
   "source": [
    "- `update_state()` 메서드는 이 클래스를 함수처럼 사용할 때 호출됨(Precision 객체에서 했던 것처럼). 배치의 레이블과 예측을 (그리고 이 예에서는 없지만 샘플 가중치를) 바탕으로 변수를 업데이트함."
   ]
  },
  {
   "cell_type": "markdown",
   "id": "9ea3ae78",
   "metadata": {},
   "source": [
    "- `result()` 메서드는 최종 결과를 계산하고 반환함. 이 예에서는 모든 샘플에 대한 평균 후버 손실값임. 이 지표 클래스를 함수처럼 사용하면 먼저 `update_state()` 메서드가 호출되고 그다음 `result()` 메서드가 호출되어 출력이 반환됨."
   ]
  },
  {
   "cell_type": "markdown",
   "id": "95c51837",
   "metadata": {},
   "source": [
    "- `get_config()` 메서드를 구현하여 threshold 변수를 모델과 함께 저장함"
   ]
  },
  {
   "cell_type": "markdown",
   "id": "61412be7",
   "metadata": {},
   "source": [
    "- `reset_status()` 메서드는 기본적으로 모든 변수를 0.0으로 초기화함 (필요하면 이 함수를 재정의 override 할 수 있음)"
   ]
  },
  {
   "cell_type": "markdown",
   "id": "86c56a7c",
   "metadata": {},
   "source": [
    "지표를 간단한 함수로 정의하면 앞서 우리가 수동으로 했던 것처럼 케라스가 배치마다 자동으로 이 함수를 호출하고 에포크 동안 평균을 기록함\n",
    "- 따라서 `HuberMetric` 클래스를 정의하는 유일한 이점은 threshold를 저장하는 것임\n",
    "- 정밀도와 같이 어떤 지표는 배치에 걸쳐 단순히 평균을 낼 수 없음\n",
    "- 이런 경우에는 스트리밍 지표를 구현하는 것 외에는 다른 방법이 없음\n"
   ]
  },
  {
   "cell_type": "code",
   "execution_count": 77,
   "id": "86a3492f",
   "metadata": {
    "ExecuteTime": {
     "end_time": "2023-04-23T11:06:11.659610Z",
     "start_time": "2023-04-23T11:06:11.548706Z"
    }
   },
   "outputs": [
    {
     "data": {
      "text/plain": [
       "<tf.Tensor: shape=(), dtype=float32, numpy=14.0>"
      ]
     },
     "execution_count": 77,
     "metadata": {},
     "output_type": "execute_result"
    }
   ],
   "source": [
    "m = HuberMetric(2.)\n",
    "\n",
    "# total = 2 * |10 - 2| - 2²/2 = 14\n",
    "# count = 1\n",
    "# result = 14 / 1 = 14\n",
    "m(tf.constant([[2.]]), tf.constant([[10.]])) "
   ]
  },
  {
   "cell_type": "code",
   "execution_count": 78,
   "id": "150731c8",
   "metadata": {
    "ExecuteTime": {
     "end_time": "2023-04-23T11:06:18.086387Z",
     "start_time": "2023-04-23T11:06:18.066439Z"
    }
   },
   "outputs": [
    {
     "data": {
      "text/plain": [
       "<tf.Tensor: shape=(), dtype=float32, numpy=7.0>"
      ]
     },
     "execution_count": 78,
     "metadata": {},
     "output_type": "execute_result"
    }
   ],
   "source": [
    "# total = total + (|1 - 0|² / 2) + (2 * |9.25 - 5| - 2² / 2) = 14 + 7 = 21\n",
    "# count = count + 2 = 3\n",
    "# result = total / count = 21 / 3 = 7\n",
    "m(tf.constant([[0.], [5.]]), tf.constant([[1.], [9.25]]))\n",
    "\n",
    "m.result()"
   ]
  },
  {
   "cell_type": "code",
   "execution_count": 79,
   "id": "0a4380c6",
   "metadata": {
    "ExecuteTime": {
     "end_time": "2023-04-23T11:06:22.526983Z",
     "start_time": "2023-04-23T11:06:22.512992Z"
    }
   },
   "outputs": [
    {
     "data": {
      "text/plain": [
       "[<tf.Variable 'total:0' shape=() dtype=float32, numpy=21.0>,\n",
       " <tf.Variable 'count:0' shape=() dtype=float32, numpy=3.0>]"
      ]
     },
     "execution_count": 79,
     "metadata": {},
     "output_type": "execute_result"
    }
   ],
   "source": [
    "m.variables"
   ]
  },
  {
   "cell_type": "code",
   "execution_count": 80,
   "id": "5e54cacf",
   "metadata": {
    "ExecuteTime": {
     "end_time": "2023-04-23T11:06:26.391943Z",
     "start_time": "2023-04-23T11:06:26.368986Z"
    }
   },
   "outputs": [
    {
     "data": {
      "text/plain": [
       "[<tf.Variable 'total:0' shape=() dtype=float32, numpy=0.0>,\n",
       " <tf.Variable 'count:0' shape=() dtype=float32, numpy=0.0>]"
      ]
     },
     "execution_count": 80,
     "metadata": {},
     "output_type": "execute_result"
    }
   ],
   "source": [
    "m.reset_states()\n",
    "m.variables"
   ]
  },
  {
   "cell_type": "code",
   "execution_count": 81,
   "id": "176fe762",
   "metadata": {
    "ExecuteTime": {
     "end_time": "2023-04-23T11:06:34.228125Z",
     "start_time": "2023-04-23T11:06:34.210140Z"
    }
   },
   "outputs": [],
   "source": [
    "keras.backend.clear_session()\n",
    "np.random.seed(42)\n",
    "tf.random.set_seed(42)"
   ]
  },
  {
   "cell_type": "code",
   "execution_count": 82,
   "id": "708919a4",
   "metadata": {
    "ExecuteTime": {
     "end_time": "2023-04-23T11:06:41.099334Z",
     "start_time": "2023-04-23T11:06:41.050435Z"
    }
   },
   "outputs": [],
   "source": [
    "model = keras.models.Sequential([\n",
    "    keras.layers.Dense(30, activation=\"selu\", kernel_initializer=\"lecun_normal\",\n",
    "                       input_shape=input_shape),\n",
    "    keras.layers.Dense(1),\n",
    "])"
   ]
  },
  {
   "cell_type": "code",
   "execution_count": 83,
   "id": "e05fa4ed",
   "metadata": {
    "ExecuteTime": {
     "end_time": "2023-04-23T11:06:46.329212Z",
     "start_time": "2023-04-23T11:06:46.297308Z"
    }
   },
   "outputs": [],
   "source": [
    "model.compile(loss=create_huber(2.0), optimizer=\"nadam\", metrics=[HuberMetric(2.0)])"
   ]
  },
  {
   "cell_type": "code",
   "execution_count": 84,
   "id": "84d57607",
   "metadata": {
    "ExecuteTime": {
     "end_time": "2023-04-23T11:06:54.236904Z",
     "start_time": "2023-04-23T11:06:52.409851Z"
    }
   },
   "outputs": [
    {
     "name": "stdout",
     "output_type": "stream",
     "text": [
      "Epoch 1/2\n",
      "363/363 [==============================] - 1s 2ms/step - loss: 0.8280 - huber_metric: 0.8280\n",
      "Epoch 2/2\n",
      "363/363 [==============================] - 1s 1ms/step - loss: 0.2441 - huber_metric: 0.2441\n"
     ]
    },
    {
     "data": {
      "text/plain": [
       "<keras.callbacks.History at 0x25645ca1c40>"
      ]
     },
     "execution_count": 84,
     "metadata": {},
     "output_type": "execute_result"
    }
   ],
   "source": [
    "model.fit(X_train_scaled.astype(np.float32), y_train.astype(np.float32), epochs=2)"
   ]
  },
  {
   "cell_type": "code",
   "execution_count": 85,
   "id": "b04b0c74",
   "metadata": {
    "ExecuteTime": {
     "end_time": "2023-04-23T11:06:59.981039Z",
     "start_time": "2023-04-23T11:06:59.954075Z"
    }
   },
   "outputs": [],
   "source": [
    "model.save(\"my_model_with_a_custom_metric.h5\")"
   ]
  },
  {
   "cell_type": "code",
   "execution_count": 86,
   "id": "a0b56a1e",
   "metadata": {
    "ExecuteTime": {
     "end_time": "2023-04-23T11:07:09.189269Z",
     "start_time": "2023-04-23T11:07:09.122450Z"
    }
   },
   "outputs": [],
   "source": [
    "model = keras.models.load_model(\"my_model_with_a_custom_metric.h5\",\n",
    "                                custom_objects={\"huber_fn\": create_huber(2.0),\n",
    "                                                \"HuberMetric\": HuberMetric})"
   ]
  },
  {
   "cell_type": "code",
   "execution_count": 87,
   "id": "62f2f4df",
   "metadata": {
    "ExecuteTime": {
     "end_time": "2023-04-23T11:07:16.510315Z",
     "start_time": "2023-04-23T11:07:14.913399Z"
    }
   },
   "outputs": [
    {
     "name": "stdout",
     "output_type": "stream",
     "text": [
      "Epoch 1/2\n",
      "363/363 [==============================] - 1s 2ms/step - loss: 0.2312 - huber_metric: 0.2312\n",
      "Epoch 2/2\n",
      "363/363 [==============================] - 1s 1ms/step - loss: 0.2244 - huber_metric: 0.2244\n"
     ]
    },
    {
     "data": {
      "text/plain": [
       "<keras.callbacks.History at 0x2564b42b700>"
      ]
     },
     "execution_count": 87,
     "metadata": {},
     "output_type": "execute_result"
    }
   ],
   "source": [
    "model.fit(X_train_scaled.astype(np.float32), y_train.astype(np.float32), epochs=2)"
   ]
  },
  {
   "cell_type": "code",
   "execution_count": 89,
   "id": "d8101d03",
   "metadata": {
    "ExecuteTime": {
     "end_time": "2023-04-23T12:41:19.440279Z",
     "start_time": "2023-04-23T12:41:19.419335Z"
    }
   },
   "outputs": [
    {
     "data": {
      "text/plain": [
       "2.0"
      ]
     },
     "execution_count": 89,
     "metadata": {},
     "output_type": "execute_result"
    }
   ],
   "source": [
    "model.metrics[-1].threshold"
   ]
  },
  {
   "cell_type": "markdown",
   "id": "4a5d5ab6",
   "metadata": {},
   "source": [
    "## 사용자 정의 층"
   ]
  },
  {
   "cell_type": "markdown",
   "id": "700a3bc7",
   "metadata": {},
   "source": [
    "텐서플로에는 없는 특이한 층을 가진 네트워크를 만들어야 할 때가 있음\n",
    "- 이런 경우 사용자 정의 층을 만듦\n",
    "- 동일한 층 블럭이 여러 번 반복되는 네트워크를 만들 경우 각각의 층 블럭을 하나의 층으로 다루는 것이 편리함. "
   ]
  },
  {
   "cell_type": "markdown",
   "id": "dc88c7ac",
   "metadata": {},
   "source": [
    "먼저 `keras.layers.Flatten`나 `keras.layers.ReLU`와 같은 층은 가중치가 없음.\n",
    "- 가중치가 필요 없는 사용자 정의 층을 만들기 위한 가장 간단한 방법은 파이썬 함수를 만든 후 `keras.layers.Lambda`층으로 감싸는 것임\n",
    "- 예를 들면 입력에 지수 함수를 적용하는 층임"
   ]
  },
  {
   "cell_type": "markdown",
   "id": "05600b0e",
   "metadata": {},
   "source": [
    "이 사용자 정의 층을 시퀀셜 API나 함수형 API, 서브클래싱 API에서 보통의 층과 동일하게 사용할 수 있음. 또는 활성화 함수로 사용할 수도 있음 (`activation=ft.exp.activation=keras.activations.exponential` 또는 `activation=\"exponential\"`을 사용할 수도 있음). \n",
    "- 지수 함수는 이따금 회귀 모델에서 예측값의 스케일이 매우 다를 때 출력층에 사용됨.\n",
    "- 상태가 있는 층을 만들려면 `keras.layers.Layer`를 상속해야함. 예를 들면 다음 클래스는 `Dense` 층의 간소화 버전을 구현한 것임"
   ]
  },
  {
   "cell_type": "code",
   "execution_count": null,
   "id": "c8201515",
   "metadata": {},
   "outputs": [],
   "source": []
  }
 ],
 "metadata": {
  "kernelspec": {
   "display_name": "Python 3 (ipykernel)",
   "language": "python",
   "name": "python3"
  },
  "language_info": {
   "codemirror_mode": {
    "name": "ipython",
    "version": 3
   },
   "file_extension": ".py",
   "mimetype": "text/x-python",
   "name": "python",
   "nbconvert_exporter": "python",
   "pygments_lexer": "ipython3",
   "version": "3.9.13"
  },
  "toc": {
   "base_numbering": 1,
   "nav_menu": {},
   "number_sections": true,
   "sideBar": true,
   "skip_h1_title": false,
   "title_cell": "Table of Contents",
   "title_sidebar": "Contents",
   "toc_cell": false,
   "toc_position": {},
   "toc_section_display": true,
   "toc_window_display": true
  },
  "varInspector": {
   "cols": {
    "lenName": 16,
    "lenType": 16,
    "lenVar": 40
   },
   "kernels_config": {
    "python": {
     "delete_cmd_postfix": "",
     "delete_cmd_prefix": "del ",
     "library": "var_list.py",
     "varRefreshCmd": "print(var_dic_list())"
    },
    "r": {
     "delete_cmd_postfix": ") ",
     "delete_cmd_prefix": "rm(",
     "library": "var_list.r",
     "varRefreshCmd": "cat(var_dic_list()) "
    }
   },
   "types_to_exclude": [
    "module",
    "function",
    "builtin_function_or_method",
    "instance",
    "_Feature"
   ],
   "window_display": false
  }
 },
 "nbformat": 4,
 "nbformat_minor": 5
}
